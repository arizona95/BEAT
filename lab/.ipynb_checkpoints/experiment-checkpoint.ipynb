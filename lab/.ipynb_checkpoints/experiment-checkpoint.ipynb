{
 "cells": [
  {
   "cell_type": "code",
   "execution_count": null,
   "id": "e26efc11",
   "metadata": {},
   "outputs": [],
   "source": [
    "%load_ext autoreload\n",
    "%autoreload 2"
   ]
  },
  {
   "cell_type": "code",
   "execution_count": 183,
   "id": "de9e1c64",
   "metadata": {
    "scrolled": true
   },
   "outputs": [
    {
     "name": "stdout",
     "output_type": "stream",
     "text": [
      "Key: 1\n",
      "Fitness: None\n",
      "Nodes:\n",
      "\t0 DefaultNodeGene(key=0, bias=0.26107248217932416, response=1.0, activation=sigmoid, aggregation=sum)\n",
      "\t1 DefaultNodeGene(key=1, bias=-2.274384728586456, response=1.0, activation=sigmoid, aggregation=sum)\n",
      "\t2 DefaultNodeGene(key=2, bias=-0.211801733741185, response=1.0, activation=sigmoid, aggregation=sum)\n",
      "\t3 DefaultNodeGene(key=3, bias=-0.2991294865218918, response=1.0, activation=sigmoid, aggregation=sum)\n",
      "\t4 DefaultNodeGene(key=4, bias=0.40972716521995034, response=1.0, activation=sigmoid, aggregation=sum)\n",
      "\t5 DefaultNodeGene(key=5, bias=-1.0293232420661536, response=1.0, activation=sigmoid, aggregation=sum)\n",
      "\t6 DefaultNodeGene(key=6, bias=2.041778239106897, response=1.0, activation=sigmoid, aggregation=sum)\n",
      "\t7 DefaultNodeGene(key=7, bias=1.0102260142652195, response=1.0, activation=sigmoid, aggregation=sum)\n",
      "\t8 DefaultNodeGene(key=8, bias=-1.1809548449753595, response=1.0, activation=sigmoid, aggregation=sum)\n",
      "\t9 DefaultNodeGene(key=9, bias=-0.3802880692624558, response=1.0, activation=sigmoid, aggregation=sum)\n",
      "\t10 DefaultNodeGene(key=10, bias=-0.13526739306775032, response=1.0, activation=sigmoid, aggregation=sum)\n",
      "\t11 DefaultNodeGene(key=11, bias=1.6994638437944805, response=1.0, activation=sigmoid, aggregation=sum)\n",
      "\t12 DefaultNodeGene(key=12, bias=-1.8608478870294733, response=1.0, activation=sigmoid, aggregation=sum)\n",
      "\t13 DefaultNodeGene(key=13, bias=-0.11354403715613282, response=1.0, activation=sigmoid, aggregation=sum)\n",
      "\t14 DefaultNodeGene(key=14, bias=-1.670841461148538, response=1.0, activation=sigmoid, aggregation=sum)\n",
      "\t15 DefaultNodeGene(key=15, bias=0.528395284219203, response=1.0, activation=sigmoid, aggregation=sum)\n",
      "\t16 DefaultNodeGene(key=16, bias=0.9139160325323452, response=1.0, activation=sigmoid, aggregation=sum)\n",
      "\t17 DefaultNodeGene(key=17, bias=1.3597877004658445, response=1.0, activation=sigmoid, aggregation=sum)\n",
      "\t18 DefaultNodeGene(key=18, bias=-1.028938525968489, response=1.0, activation=sigmoid, aggregation=sum)\n",
      "\t19 DefaultNodeGene(key=19, bias=0.5279929635988523, response=1.0, activation=sigmoid, aggregation=sum)\n",
      "\t20 DefaultNodeGene(key=20, bias=0.813679962025721, response=1.0, activation=sigmoid, aggregation=sum)\n",
      "\t21 DefaultNodeGene(key=21, bias=0.861933188126666, response=1.0, activation=sigmoid, aggregation=sum)\n",
      "\t22 DefaultNodeGene(key=22, bias=-0.32349568429442505, response=1.0, activation=sigmoid, aggregation=sum)\n",
      "\t23 DefaultNodeGene(key=23, bias=0.6617381436852529, response=1.0, activation=sigmoid, aggregation=sum)\n",
      "\t24 DefaultNodeGene(key=24, bias=-1.3648681646281047, response=1.0, activation=sigmoid, aggregation=sum)\n",
      "\t25 DefaultNodeGene(key=25, bias=-1.4459546370317622, response=1.0, activation=sigmoid, aggregation=sum)\n",
      "\t26 DefaultNodeGene(key=26, bias=0.28348476616313484, response=1.0, activation=sigmoid, aggregation=sum)\n",
      "\t27 DefaultNodeGene(key=27, bias=0.18894203351106825, response=1.0, activation=sigmoid, aggregation=sum)\n",
      "Connections:\n",
      "\tDefaultConnectionGene(key=(-14, 0), weight=-0.05411600445866942, enabled=True)\n",
      "\tDefaultConnectionGene(key=(-14, 2), weight=-1.1172672841400886, enabled=True)\n",
      "\tDefaultConnectionGene(key=(-14, 5), weight=-1.1527240899407971, enabled=True)\n",
      "\tDefaultConnectionGene(key=(-14, 8), weight=-1.0437382851089647, enabled=True)\n",
      "\tDefaultConnectionGene(key=(-14, 9), weight=1.0436735869899543, enabled=True)\n",
      "\tDefaultConnectionGene(key=(-14, 11), weight=2.2740297513564123, enabled=True)\n",
      "\tDefaultConnectionGene(key=(-14, 12), weight=-0.7054295929169465, enabled=True)\n",
      "\tDefaultConnectionGene(key=(-14, 13), weight=-1.7428870517240145, enabled=True)\n",
      "\tDefaultConnectionGene(key=(-14, 14), weight=-0.02106194608318165, enabled=True)\n",
      "\tDefaultConnectionGene(key=(-14, 15), weight=-0.25889479449769903, enabled=True)\n",
      "\tDefaultConnectionGene(key=(-14, 19), weight=0.16726481425101108, enabled=True)\n",
      "\tDefaultConnectionGene(key=(-14, 21), weight=1.091803469679783, enabled=True)\n",
      "\tDefaultConnectionGene(key=(-14, 23), weight=-2.289062648375914, enabled=True)\n",
      "\tDefaultConnectionGene(key=(-14, 24), weight=-0.12137135354041885, enabled=True)\n",
      "\tDefaultConnectionGene(key=(-14, 26), weight=0.9742670928724074, enabled=True)\n",
      "\tDefaultConnectionGene(key=(-14, 27), weight=0.2632627980779163, enabled=True)\n",
      "\tDefaultConnectionGene(key=(-13, 1), weight=1.248413900527381, enabled=True)\n",
      "\tDefaultConnectionGene(key=(-13, 2), weight=0.2835621880567838, enabled=True)\n",
      "\tDefaultConnectionGene(key=(-13, 8), weight=1.136328861348898, enabled=True)\n",
      "\tDefaultConnectionGene(key=(-13, 11), weight=-0.13353625734511823, enabled=True)\n",
      "\tDefaultConnectionGene(key=(-13, 12), weight=2.8872334253326692, enabled=True)\n",
      "\tDefaultConnectionGene(key=(-13, 13), weight=0.42182384316855404, enabled=True)\n",
      "\tDefaultConnectionGene(key=(-13, 15), weight=0.056760797506249, enabled=True)\n",
      "\tDefaultConnectionGene(key=(-13, 19), weight=1.514330990689117, enabled=True)\n",
      "\tDefaultConnectionGene(key=(-13, 21), weight=-1.7842598628380901, enabled=True)\n",
      "\tDefaultConnectionGene(key=(-13, 22), weight=-0.09445463430645556, enabled=True)\n",
      "\tDefaultConnectionGene(key=(-13, 23), weight=-0.750214014583966, enabled=True)\n",
      "\tDefaultConnectionGene(key=(-13, 24), weight=0.3417854979310182, enabled=True)\n",
      "\tDefaultConnectionGene(key=(-13, 25), weight=0.5430619030350394, enabled=True)\n",
      "\tDefaultConnectionGene(key=(-13, 27), weight=0.5102330300788431, enabled=True)\n",
      "\tDefaultConnectionGene(key=(-12, 2), weight=-0.10165445102537225, enabled=True)\n",
      "\tDefaultConnectionGene(key=(-12, 3), weight=-0.09536803215086338, enabled=True)\n",
      "\tDefaultConnectionGene(key=(-12, 7), weight=-1.0535842147406989, enabled=True)\n",
      "\tDefaultConnectionGene(key=(-12, 9), weight=1.493678832306213, enabled=True)\n",
      "\tDefaultConnectionGene(key=(-12, 16), weight=-0.5023945802956745, enabled=True)\n",
      "\tDefaultConnectionGene(key=(-12, 17), weight=0.32946938649321467, enabled=True)\n",
      "\tDefaultConnectionGene(key=(-12, 20), weight=-0.21829244614967225, enabled=True)\n",
      "\tDefaultConnectionGene(key=(-12, 21), weight=0.10788701971293761, enabled=True)\n",
      "\tDefaultConnectionGene(key=(-12, 23), weight=0.4917246803270703, enabled=True)\n",
      "\tDefaultConnectionGene(key=(-12, 24), weight=1.0476178548489867, enabled=True)\n",
      "\tDefaultConnectionGene(key=(-12, 26), weight=-1.8267963762911927, enabled=True)\n",
      "\tDefaultConnectionGene(key=(-12, 27), weight=0.4346579528325298, enabled=True)\n",
      "\tDefaultConnectionGene(key=(-11, 2), weight=-0.854541902304128, enabled=True)\n",
      "\tDefaultConnectionGene(key=(-11, 4), weight=-0.010063767154501841, enabled=True)\n",
      "\tDefaultConnectionGene(key=(-11, 5), weight=1.0012971101774402, enabled=True)\n",
      "\tDefaultConnectionGene(key=(-11, 6), weight=0.07391845024234947, enabled=True)\n",
      "\tDefaultConnectionGene(key=(-11, 12), weight=-1.629450327288973, enabled=True)\n",
      "\tDefaultConnectionGene(key=(-11, 16), weight=0.10202708448864159, enabled=True)\n",
      "\tDefaultConnectionGene(key=(-11, 17), weight=-2.2669939432138486, enabled=True)\n",
      "\tDefaultConnectionGene(key=(-11, 19), weight=0.3445728090988594, enabled=True)\n",
      "\tDefaultConnectionGene(key=(-11, 21), weight=1.555132780960089, enabled=True)\n",
      "\tDefaultConnectionGene(key=(-11, 22), weight=0.3592440577665578, enabled=True)\n",
      "\tDefaultConnectionGene(key=(-11, 23), weight=-1.3478128019160414, enabled=True)\n",
      "\tDefaultConnectionGene(key=(-11, 24), weight=-1.2573314479186084, enabled=True)\n",
      "\tDefaultConnectionGene(key=(-11, 25), weight=1.0803809399145625, enabled=True)\n",
      "\tDefaultConnectionGene(key=(-11, 27), weight=-0.8512578306599491, enabled=True)\n",
      "\tDefaultConnectionGene(key=(-10, 0), weight=0.7519159085442244, enabled=True)\n",
      "\tDefaultConnectionGene(key=(-10, 1), weight=0.8121483931548048, enabled=True)\n",
      "\tDefaultConnectionGene(key=(-10, 2), weight=-0.5488719008285425, enabled=True)\n",
      "\tDefaultConnectionGene(key=(-10, 7), weight=0.2543730470549485, enabled=True)\n",
      "\tDefaultConnectionGene(key=(-10, 8), weight=0.025582147745474758, enabled=True)\n",
      "\tDefaultConnectionGene(key=(-10, 10), weight=0.8688736968630947, enabled=True)\n",
      "\tDefaultConnectionGene(key=(-10, 16), weight=0.8146733146853214, enabled=True)\n",
      "\tDefaultConnectionGene(key=(-10, 17), weight=1.188704127982341, enabled=True)\n",
      "\tDefaultConnectionGene(key=(-10, 18), weight=-0.4325495556014832, enabled=True)\n",
      "\tDefaultConnectionGene(key=(-10, 19), weight=-1.2637811521351212, enabled=True)\n",
      "\tDefaultConnectionGene(key=(-10, 22), weight=-1.2435735155533396, enabled=True)\n",
      "\tDefaultConnectionGene(key=(-10, 23), weight=1.434116408148645, enabled=True)\n",
      "\tDefaultConnectionGene(key=(-10, 27), weight=-0.00986446249142546, enabled=True)\n",
      "\tDefaultConnectionGene(key=(-9, 0), weight=-1.3669096320331342, enabled=True)\n",
      "\tDefaultConnectionGene(key=(-9, 1), weight=0.3192602654762624, enabled=True)\n",
      "\tDefaultConnectionGene(key=(-9, 2), weight=0.4934523826615265, enabled=True)\n",
      "\tDefaultConnectionGene(key=(-9, 10), weight=1.8646735942538608, enabled=True)\n",
      "\tDefaultConnectionGene(key=(-9, 11), weight=2.3066778979785636, enabled=True)\n",
      "\tDefaultConnectionGene(key=(-9, 12), weight=1.9695633844630551, enabled=True)\n",
      "\tDefaultConnectionGene(key=(-9, 14), weight=0.22618329473218773, enabled=True)\n",
      "\tDefaultConnectionGene(key=(-9, 17), weight=-1.1330853417797166, enabled=True)\n",
      "\tDefaultConnectionGene(key=(-9, 22), weight=-0.7356593271245964, enabled=True)\n",
      "\tDefaultConnectionGene(key=(-9, 23), weight=1.4260324355898142, enabled=True)\n",
      "\tDefaultConnectionGene(key=(-9, 27), weight=0.6802871566927278, enabled=True)\n",
      "\tDefaultConnectionGene(key=(-8, 0), weight=-0.4335225098461601, enabled=True)\n",
      "\tDefaultConnectionGene(key=(-8, 4), weight=-0.5831572707294567, enabled=True)\n",
      "\tDefaultConnectionGene(key=(-8, 5), weight=0.8401427998226054, enabled=True)\n",
      "\tDefaultConnectionGene(key=(-8, 7), weight=-0.5331689249991952, enabled=True)\n",
      "\tDefaultConnectionGene(key=(-8, 10), weight=-0.4667601436123116, enabled=True)\n",
      "\tDefaultConnectionGene(key=(-8, 11), weight=0.6990037417422561, enabled=True)\n",
      "\tDefaultConnectionGene(key=(-8, 15), weight=0.9249254226336818, enabled=True)\n",
      "\tDefaultConnectionGene(key=(-8, 17), weight=0.5682525403730775, enabled=True)\n",
      "\tDefaultConnectionGene(key=(-8, 21), weight=0.08274071811318524, enabled=True)\n",
      "\tDefaultConnectionGene(key=(-8, 23), weight=-1.311168577022848, enabled=True)\n",
      "\tDefaultConnectionGene(key=(-8, 26), weight=0.8263361089949556, enabled=True)\n",
      "\tDefaultConnectionGene(key=(-7, 0), weight=-1.9051337762787002, enabled=True)\n",
      "\tDefaultConnectionGene(key=(-7, 1), weight=0.5058976549332006, enabled=True)\n",
      "\tDefaultConnectionGene(key=(-7, 2), weight=-0.41379997300801324, enabled=True)\n",
      "\tDefaultConnectionGene(key=(-7, 5), weight=-0.1465092085653779, enabled=True)\n",
      "\tDefaultConnectionGene(key=(-7, 7), weight=-1.1462163424670808, enabled=True)\n",
      "\tDefaultConnectionGene(key=(-7, 13), weight=-1.4800564713047972, enabled=True)\n",
      "\tDefaultConnectionGene(key=(-7, 14), weight=1.110474667873568, enabled=True)\n",
      "\tDefaultConnectionGene(key=(-7, 16), weight=-0.630695222192932, enabled=True)\n",
      "\tDefaultConnectionGene(key=(-7, 19), weight=0.5405841400668372, enabled=True)\n",
      "\tDefaultConnectionGene(key=(-7, 20), weight=-0.7814739197111377, enabled=True)\n",
      "\tDefaultConnectionGene(key=(-7, 23), weight=-1.5393097341997957, enabled=True)\n",
      "\tDefaultConnectionGene(key=(-7, 25), weight=-0.9941098701811473, enabled=True)\n",
      "\tDefaultConnectionGene(key=(-7, 26), weight=0.38181126682653327, enabled=True)\n",
      "\tDefaultConnectionGene(key=(-6, 0), weight=0.27820281907759314, enabled=True)\n",
      "\tDefaultConnectionGene(key=(-6, 2), weight=-0.7528854778150789, enabled=True)\n",
      "\tDefaultConnectionGene(key=(-6, 4), weight=2.108383950380363, enabled=True)\n",
      "\tDefaultConnectionGene(key=(-6, 6), weight=-0.1232556899898943, enabled=True)\n",
      "\tDefaultConnectionGene(key=(-6, 7), weight=0.40862340253294427, enabled=True)\n",
      "\tDefaultConnectionGene(key=(-6, 11), weight=-0.3471257915065397, enabled=True)\n",
      "\tDefaultConnectionGene(key=(-6, 16), weight=-0.38510764464148184, enabled=True)\n",
      "\tDefaultConnectionGene(key=(-6, 18), weight=-0.15008472372890622, enabled=True)\n",
      "\tDefaultConnectionGene(key=(-6, 20), weight=0.3356208804248415, enabled=True)\n",
      "\tDefaultConnectionGene(key=(-6, 23), weight=0.37928056892166134, enabled=True)\n",
      "\tDefaultConnectionGene(key=(-6, 24), weight=1.3680694691342796, enabled=True)\n",
      "\tDefaultConnectionGene(key=(-6, 26), weight=1.149532750834722, enabled=True)\n",
      "\tDefaultConnectionGene(key=(-6, 27), weight=-1.3002298700373633, enabled=True)\n",
      "\tDefaultConnectionGene(key=(-5, 0), weight=0.13171773493378075, enabled=True)\n",
      "\tDefaultConnectionGene(key=(-5, 2), weight=-1.3541268786778111, enabled=True)\n",
      "\tDefaultConnectionGene(key=(-5, 3), weight=-0.7783993050973221, enabled=True)\n",
      "\tDefaultConnectionGene(key=(-5, 5), weight=-0.480441983134188, enabled=True)\n",
      "\tDefaultConnectionGene(key=(-5, 7), weight=-1.5894996857642152, enabled=True)\n",
      "\tDefaultConnectionGene(key=(-5, 8), weight=1.7734805234343076, enabled=True)\n",
      "\tDefaultConnectionGene(key=(-5, 11), weight=0.7353308853777077, enabled=True)\n",
      "\tDefaultConnectionGene(key=(-5, 14), weight=0.4547211003782897, enabled=True)\n",
      "\tDefaultConnectionGene(key=(-5, 15), weight=0.48238973196836044, enabled=True)\n",
      "\tDefaultConnectionGene(key=(-5, 16), weight=-0.3193615265390138, enabled=True)\n",
      "\tDefaultConnectionGene(key=(-5, 17), weight=1.5151445705480473, enabled=True)\n",
      "\tDefaultConnectionGene(key=(-5, 20), weight=0.6943820643014901, enabled=True)\n",
      "\tDefaultConnectionGene(key=(-5, 21), weight=0.23335210700812226, enabled=True)\n",
      "\tDefaultConnectionGene(key=(-5, 23), weight=0.586538497062157, enabled=True)\n",
      "\tDefaultConnectionGene(key=(-4, 0), weight=0.9488972260932441, enabled=True)\n",
      "\tDefaultConnectionGene(key=(-4, 2), weight=0.15458764185064877, enabled=True)\n",
      "\tDefaultConnectionGene(key=(-4, 3), weight=0.09217052529955337, enabled=True)\n",
      "\tDefaultConnectionGene(key=(-4, 4), weight=-1.3223327826528328, enabled=True)\n",
      "\tDefaultConnectionGene(key=(-4, 6), weight=0.21242485245017786, enabled=True)\n",
      "\tDefaultConnectionGene(key=(-4, 8), weight=0.5871457944069, enabled=True)\n",
      "\tDefaultConnectionGene(key=(-4, 10), weight=-0.5247307767635369, enabled=True)\n",
      "\tDefaultConnectionGene(key=(-4, 11), weight=-0.770616674614281, enabled=True)\n",
      "\tDefaultConnectionGene(key=(-4, 13), weight=0.7214226622969077, enabled=True)\n",
      "\tDefaultConnectionGene(key=(-4, 14), weight=-0.8162961296670124, enabled=True)\n",
      "\tDefaultConnectionGene(key=(-4, 15), weight=0.5836274466549327, enabled=True)\n",
      "\tDefaultConnectionGene(key=(-4, 17), weight=1.7248237628566963, enabled=True)\n",
      "\tDefaultConnectionGene(key=(-4, 18), weight=-1.0892616094362084, enabled=True)\n",
      "\tDefaultConnectionGene(key=(-4, 20), weight=-0.6305384152777782, enabled=True)\n",
      "\tDefaultConnectionGene(key=(-4, 22), weight=0.35140569486513284, enabled=True)\n",
      "\tDefaultConnectionGene(key=(-4, 26), weight=0.5197768156273666, enabled=True)\n",
      "\tDefaultConnectionGene(key=(-3, 4), weight=-0.004349343822429113, enabled=True)\n",
      "\tDefaultConnectionGene(key=(-3, 6), weight=1.6847603376641265, enabled=True)\n",
      "\tDefaultConnectionGene(key=(-3, 7), weight=0.7026420861203991, enabled=True)\n",
      "\tDefaultConnectionGene(key=(-3, 8), weight=1.4975036845680432, enabled=True)\n",
      "\tDefaultConnectionGene(key=(-3, 13), weight=0.6392446446872238, enabled=True)\n",
      "\tDefaultConnectionGene(key=(-3, 14), weight=-0.794709756389404, enabled=True)\n",
      "\tDefaultConnectionGene(key=(-3, 15), weight=0.14588869778800362, enabled=True)\n",
      "\tDefaultConnectionGene(key=(-3, 16), weight=-0.06596884109468454, enabled=True)\n",
      "\tDefaultConnectionGene(key=(-3, 19), weight=0.20787969290579128, enabled=True)\n",
      "\tDefaultConnectionGene(key=(-3, 20), weight=-1.9421249672241265, enabled=True)\n",
      "\tDefaultConnectionGene(key=(-3, 21), weight=0.3602815515502736, enabled=True)\n",
      "\tDefaultConnectionGene(key=(-3, 27), weight=0.02153392872858344, enabled=True)\n",
      "\tDefaultConnectionGene(key=(-2, 0), weight=0.758127280463477, enabled=True)\n",
      "\tDefaultConnectionGene(key=(-2, 3), weight=-0.028529876825124888, enabled=True)\n",
      "\tDefaultConnectionGene(key=(-2, 5), weight=-1.3808721137672835, enabled=True)\n",
      "\tDefaultConnectionGene(key=(-2, 10), weight=-0.10475658183712964, enabled=True)\n",
      "\tDefaultConnectionGene(key=(-2, 12), weight=1.9748342189412893, enabled=True)\n",
      "\tDefaultConnectionGene(key=(-2, 13), weight=-0.2623783889085277, enabled=True)\n",
      "\tDefaultConnectionGene(key=(-2, 15), weight=-0.422464735785833, enabled=True)\n",
      "\tDefaultConnectionGene(key=(-2, 18), weight=-0.11347054791966993, enabled=True)\n",
      "\tDefaultConnectionGene(key=(-2, 19), weight=0.5823648962359139, enabled=True)\n",
      "\tDefaultConnectionGene(key=(-2, 20), weight=1.2003257662244557, enabled=True)\n",
      "\tDefaultConnectionGene(key=(-2, 22), weight=-0.42348302673296356, enabled=True)\n",
      "\tDefaultConnectionGene(key=(-2, 24), weight=-0.7916022170838823, enabled=True)\n",
      "\tDefaultConnectionGene(key=(-2, 25), weight=0.6771816462176284, enabled=True)\n",
      "\tDefaultConnectionGene(key=(-2, 26), weight=-1.1009696347677778, enabled=True)\n",
      "\tDefaultConnectionGene(key=(-2, 27), weight=0.7292367368928826, enabled=True)\n",
      "\tDefaultConnectionGene(key=(-1, 1), weight=-0.9028920112321003, enabled=True)\n",
      "\tDefaultConnectionGene(key=(-1, 3), weight=0.29669699783651604, enabled=True)\n",
      "\tDefaultConnectionGene(key=(-1, 5), weight=-0.12424838490411953, enabled=True)\n",
      "\tDefaultConnectionGene(key=(-1, 6), weight=-0.1188636502721111, enabled=True)\n",
      "\tDefaultConnectionGene(key=(-1, 7), weight=0.6210688622329602, enabled=True)\n",
      "\tDefaultConnectionGene(key=(-1, 11), weight=-1.2791489256694348, enabled=True)\n",
      "\tDefaultConnectionGene(key=(-1, 13), weight=-1.0342963511769874, enabled=True)\n",
      "\tDefaultConnectionGene(key=(-1, 14), weight=-0.810105223983837, enabled=True)\n",
      "\tDefaultConnectionGene(key=(-1, 15), weight=-0.024150675483625927, enabled=True)\n",
      "\tDefaultConnectionGene(key=(-1, 22), weight=0.20424025270731522, enabled=True)\n",
      "\tDefaultConnectionGene(key=(-1, 23), weight=-1.3109411220263907, enabled=True)\n",
      "\tDefaultConnectionGene(key=(-1, 24), weight=0.874392460364522, enabled=True)\n",
      "\tDefaultConnectionGene(key=(-1, 26), weight=1.945852067809919, enabled=True)\n",
      "\tDefaultConnectionGene(key=(-1, 27), weight=-0.4728039421008548, enabled=True)\n",
      "\tDefaultConnectionGene(key=(14, 1), weight=0.04269681343198518, enabled=True)\n",
      "\tDefaultConnectionGene(key=(14, 4), weight=0.7183480098994273, enabled=True)\n",
      "\tDefaultConnectionGene(key=(14, 6), weight=-0.4376827445763672, enabled=True)\n",
      "\tDefaultConnectionGene(key=(14, 9), weight=-0.9278767871159757, enabled=True)\n",
      "\tDefaultConnectionGene(key=(14, 11), weight=0.6400362091103814, enabled=True)\n",
      "\tDefaultConnectionGene(key=(14, 12), weight=-0.5045307224514617, enabled=True)\n",
      "\tDefaultConnectionGene(key=(14, 13), weight=1.2354662984872071, enabled=True)\n",
      "\tDefaultConnectionGene(key=(15, 2), weight=1.344857111408211, enabled=True)\n",
      "\tDefaultConnectionGene(key=(15, 3), weight=0.22431631328524898, enabled=True)\n",
      "\tDefaultConnectionGene(key=(15, 4), weight=0.6125750329085469, enabled=True)\n",
      "\tDefaultConnectionGene(key=(15, 5), weight=-0.7489345514315935, enabled=True)\n",
      "\tDefaultConnectionGene(key=(15, 6), weight=-1.6862322689438431, enabled=True)\n",
      "\tDefaultConnectionGene(key=(15, 7), weight=0.7272012724844181, enabled=True)\n",
      "\tDefaultConnectionGene(key=(15, 8), weight=1.106214688383548, enabled=True)\n",
      "\tDefaultConnectionGene(key=(15, 10), weight=-1.9633705532733075, enabled=True)\n",
      "\tDefaultConnectionGene(key=(15, 11), weight=0.49696672271281855, enabled=True)\n",
      "\tDefaultConnectionGene(key=(15, 12), weight=0.26429922065269656, enabled=True)\n",
      "\tDefaultConnectionGene(key=(15, 13), weight=-1.4068871770159754, enabled=True)\n",
      "\tDefaultConnectionGene(key=(16, 0), weight=-1.6349323706074477, enabled=True)\n",
      "\tDefaultConnectionGene(key=(16, 1), weight=-0.4847971192304047, enabled=True)\n",
      "\tDefaultConnectionGene(key=(16, 10), weight=-0.6185380343278916, enabled=True)\n",
      "\tDefaultConnectionGene(key=(16, 13), weight=0.5919735780708605, enabled=True)\n",
      "\tDefaultConnectionGene(key=(17, 1), weight=-0.9062647556446778, enabled=True)\n",
      "\tDefaultConnectionGene(key=(17, 2), weight=-0.3812661865363131, enabled=True)\n",
      "\tDefaultConnectionGene(key=(17, 4), weight=0.8862171349889332, enabled=True)\n",
      "\tDefaultConnectionGene(key=(17, 5), weight=0.428159774458446, enabled=True)\n",
      "\tDefaultConnectionGene(key=(17, 6), weight=0.05313831697896243, enabled=True)\n",
      "\tDefaultConnectionGene(key=(17, 11), weight=-0.038350457294941215, enabled=True)\n",
      "\tDefaultConnectionGene(key=(17, 12), weight=0.09977643464501525, enabled=True)\n",
      "\tDefaultConnectionGene(key=(18, 0), weight=-0.935555031458077, enabled=True)\n",
      "\tDefaultConnectionGene(key=(18, 5), weight=-1.2255270583542464, enabled=True)\n",
      "\tDefaultConnectionGene(key=(18, 6), weight=-0.5092591400393032, enabled=True)\n",
      "\tDefaultConnectionGene(key=(18, 7), weight=0.48232795653560695, enabled=True)\n",
      "\tDefaultConnectionGene(key=(18, 9), weight=-0.92892618816488, enabled=True)\n",
      "\tDefaultConnectionGene(key=(18, 10), weight=0.16678549100879736, enabled=True)\n",
      "\tDefaultConnectionGene(key=(18, 11), weight=0.8914869351849116, enabled=True)\n",
      "\tDefaultConnectionGene(key=(18, 12), weight=0.47076256721565857, enabled=True)\n",
      "\tDefaultConnectionGene(key=(18, 13), weight=-0.20368595610739684, enabled=True)\n",
      "\tDefaultConnectionGene(key=(19, 1), weight=0.6750139848550661, enabled=True)\n",
      "\tDefaultConnectionGene(key=(19, 2), weight=-1.0331306862347571, enabled=True)\n",
      "\tDefaultConnectionGene(key=(19, 4), weight=1.2555244443269964, enabled=True)\n",
      "\tDefaultConnectionGene(key=(19, 6), weight=0.17959408077883013, enabled=True)\n",
      "\tDefaultConnectionGene(key=(19, 7), weight=0.15143331873879484, enabled=True)\n",
      "\tDefaultConnectionGene(key=(19, 9), weight=0.25920557242393927, enabled=True)\n",
      "\tDefaultConnectionGene(key=(19, 12), weight=1.4009190687063728, enabled=True)\n",
      "\tDefaultConnectionGene(key=(19, 13), weight=-0.34243631999283536, enabled=True)\n",
      "\tDefaultConnectionGene(key=(20, 2), weight=-0.31788068505861045, enabled=True)\n",
      "\tDefaultConnectionGene(key=(20, 3), weight=1.6696659274257377, enabled=True)\n",
      "\tDefaultConnectionGene(key=(20, 4), weight=0.9568276374990596, enabled=True)\n",
      "\tDefaultConnectionGene(key=(20, 5), weight=1.3304006556847043, enabled=True)\n",
      "\tDefaultConnectionGene(key=(20, 8), weight=0.9536350332744384, enabled=True)\n",
      "\tDefaultConnectionGene(key=(20, 9), weight=1.8611473754778627, enabled=True)\n",
      "\tDefaultConnectionGene(key=(20, 10), weight=1.2583444747623087, enabled=True)\n",
      "\tDefaultConnectionGene(key=(20, 13), weight=-1.2731467592778356, enabled=True)\n",
      "\tDefaultConnectionGene(key=(21, 3), weight=0.4200671069130956, enabled=True)\n",
      "\tDefaultConnectionGene(key=(21, 4), weight=0.797903472292648, enabled=True)\n",
      "\tDefaultConnectionGene(key=(21, 8), weight=-0.3904131642892507, enabled=True)\n",
      "\tDefaultConnectionGene(key=(21, 9), weight=0.5138507047756097, enabled=True)\n",
      "\tDefaultConnectionGene(key=(21, 11), weight=0.6133882107034557, enabled=True)\n",
      "\tDefaultConnectionGene(key=(21, 12), weight=0.3302360657469509, enabled=True)\n",
      "\tDefaultConnectionGene(key=(21, 13), weight=-0.34572561914186434, enabled=True)\n",
      "\tDefaultConnectionGene(key=(22, 1), weight=-0.021687496467797943, enabled=True)\n",
      "\tDefaultConnectionGene(key=(22, 3), weight=-2.442738061793792, enabled=True)\n",
      "\tDefaultConnectionGene(key=(22, 5), weight=0.06269573513608569, enabled=True)\n",
      "\tDefaultConnectionGene(key=(22, 6), weight=1.906333381134574, enabled=True)\n",
      "\tDefaultConnectionGene(key=(22, 10), weight=0.09819515733174261, enabled=True)\n",
      "\tDefaultConnectionGene(key=(22, 11), weight=-0.1766373513169499, enabled=True)\n",
      "\tDefaultConnectionGene(key=(22, 13), weight=0.13382451194307876, enabled=True)\n",
      "\tDefaultConnectionGene(key=(23, 1), weight=-0.9244565359358847, enabled=True)\n",
      "\tDefaultConnectionGene(key=(23, 3), weight=-0.6250709641503029, enabled=True)\n",
      "\tDefaultConnectionGene(key=(23, 4), weight=0.2847889452609995, enabled=True)\n",
      "\tDefaultConnectionGene(key=(23, 12), weight=0.18543977469125866, enabled=True)\n",
      "\tDefaultConnectionGene(key=(23, 13), weight=0.6896661705702871, enabled=True)\n",
      "\tDefaultConnectionGene(key=(24, 1), weight=0.3386842363947157, enabled=True)\n",
      "\tDefaultConnectionGene(key=(24, 5), weight=-0.46913534563337433, enabled=True)\n",
      "\tDefaultConnectionGene(key=(24, 6), weight=1.235941848539667, enabled=True)\n",
      "\tDefaultConnectionGene(key=(24, 7), weight=0.03365590508073413, enabled=True)\n",
      "\tDefaultConnectionGene(key=(24, 10), weight=0.9272171862359978, enabled=True)\n",
      "\tDefaultConnectionGene(key=(24, 11), weight=0.2814626352155159, enabled=True)\n",
      "\tDefaultConnectionGene(key=(24, 12), weight=2.589054313881142, enabled=True)\n",
      "\tDefaultConnectionGene(key=(24, 13), weight=0.6946945823858411, enabled=True)\n",
      "\tDefaultConnectionGene(key=(25, 0), weight=1.069791724718518, enabled=True)\n",
      "\tDefaultConnectionGene(key=(25, 3), weight=-0.8944784975379101, enabled=True)\n",
      "\tDefaultConnectionGene(key=(25, 5), weight=2.0055743139758553, enabled=True)\n",
      "\tDefaultConnectionGene(key=(25, 7), weight=0.7113448551090578, enabled=True)\n",
      "\tDefaultConnectionGene(key=(25, 8), weight=-1.2730368779561272, enabled=True)\n",
      "\tDefaultConnectionGene(key=(25, 10), weight=-0.2770804713082692, enabled=True)\n",
      "\tDefaultConnectionGene(key=(25, 11), weight=-0.709001755608809, enabled=True)\n",
      "\tDefaultConnectionGene(key=(25, 13), weight=-0.5556902145929625, enabled=True)\n",
      "\tDefaultConnectionGene(key=(26, 0), weight=0.9065442795046207, enabled=True)\n",
      "\tDefaultConnectionGene(key=(26, 1), weight=-0.14241476750931786, enabled=True)\n",
      "\tDefaultConnectionGene(key=(26, 2), weight=-0.3870577924610994, enabled=True)\n",
      "\tDefaultConnectionGene(key=(26, 3), weight=-0.4750711274953251, enabled=True)\n",
      "\tDefaultConnectionGene(key=(26, 5), weight=-1.526283958034896, enabled=True)\n",
      "\tDefaultConnectionGene(key=(26, 6), weight=0.5044439061892904, enabled=True)\n",
      "\tDefaultConnectionGene(key=(26, 8), weight=-1.6461310101462856, enabled=True)\n",
      "\tDefaultConnectionGene(key=(26, 9), weight=-0.522186766250329, enabled=True)\n",
      "\tDefaultConnectionGene(key=(26, 11), weight=1.9313750655200002, enabled=True)\n",
      "\tDefaultConnectionGene(key=(26, 13), weight=0.3905271057235457, enabled=True)\n",
      "\tDefaultConnectionGene(key=(27, 1), weight=-1.3487109356814302, enabled=True)\n",
      "\tDefaultConnectionGene(key=(27, 2), weight=0.3655019205012747, enabled=True)\n",
      "\tDefaultConnectionGene(key=(27, 3), weight=-1.2343679729726522, enabled=True)\n",
      "\tDefaultConnectionGene(key=(27, 9), weight=1.0557675179932138, enabled=True)\n",
      "\tDefaultConnectionGene(key=(27, 10), weight=1.3651679359843272, enabled=True)\n",
      "\tDefaultConnectionGene(key=(27, 12), weight=0.6819046807666815, enabled=True)\n",
      "\tDefaultConnectionGene(key=(27, 13), weight=-0.22588048442545328, enabled=True)\n"
     ]
    },
    {
     "ename": "KeyError",
     "evalue": "'g_c'",
     "output_type": "error",
     "traceback": [
      "\u001b[1;31m---------------------------------------------------------------------------\u001b[0m",
      "\u001b[1;31mKeyError\u001b[0m                                  Traceback (most recent call last)",
      "\u001b[1;32m<ipython-input-183-06b626a7cac3>\u001b[0m in \u001b[0;36m<module>\u001b[1;34m\u001b[0m\n\u001b[0;32m     54\u001b[0m     \u001b[0mpop\u001b[0m\u001b[1;33m.\u001b[0m\u001b[0mrun\u001b[0m\u001b[1;33m(\u001b[0m\u001b[0meval_genomes\u001b[0m\u001b[1;33m,\u001b[0m \u001b[0mn_generations\u001b[0m\u001b[1;33m)\u001b[0m\u001b[1;33m\u001b[0m\u001b[1;33m\u001b[0m\u001b[0m\n\u001b[0;32m     55\u001b[0m \u001b[1;33m\u001b[0m\u001b[0m\n\u001b[1;32m---> 56\u001b[1;33m \u001b[0mrun\u001b[0m\u001b[1;33m(\u001b[0m\u001b[1;36m10\u001b[0m\u001b[1;33m)\u001b[0m\u001b[1;33m\u001b[0m\u001b[1;33m\u001b[0m\u001b[0m\n\u001b[0m",
      "\u001b[1;32m<ipython-input-183-06b626a7cac3>\u001b[0m in \u001b[0;36mrun\u001b[1;34m(n_generations)\u001b[0m\n\u001b[0;32m     52\u001b[0m \u001b[1;33m\u001b[0m\u001b[0m\n\u001b[0;32m     53\u001b[0m     \u001b[0mpop\u001b[0m \u001b[1;33m=\u001b[0m \u001b[0mneat\u001b[0m\u001b[1;33m.\u001b[0m\u001b[0mPopulation\u001b[0m\u001b[1;33m(\u001b[0m\u001b[0mconfig\u001b[0m\u001b[1;33m)\u001b[0m\u001b[1;33m\u001b[0m\u001b[1;33m\u001b[0m\u001b[0m\n\u001b[1;32m---> 54\u001b[1;33m     \u001b[0mpop\u001b[0m\u001b[1;33m.\u001b[0m\u001b[0mrun\u001b[0m\u001b[1;33m(\u001b[0m\u001b[0meval_genomes\u001b[0m\u001b[1;33m,\u001b[0m \u001b[0mn_generations\u001b[0m\u001b[1;33m)\u001b[0m\u001b[1;33m\u001b[0m\u001b[1;33m\u001b[0m\u001b[0m\n\u001b[0m\u001b[0;32m     55\u001b[0m \u001b[1;33m\u001b[0m\u001b[0m\n\u001b[0;32m     56\u001b[0m \u001b[0mrun\u001b[0m\u001b[1;33m(\u001b[0m\u001b[1;36m10\u001b[0m\u001b[1;33m)\u001b[0m\u001b[1;33m\u001b[0m\u001b[1;33m\u001b[0m\u001b[0m\n",
      "\u001b[1;32m~\\anaconda3\\envs\\tensorflow\\lib\\site-packages\\neat\\population.py\u001b[0m in \u001b[0;36mrun\u001b[1;34m(self, fitness_function, n)\u001b[0m\n\u001b[0;32m     87\u001b[0m \u001b[1;33m\u001b[0m\u001b[0m\n\u001b[0;32m     88\u001b[0m             \u001b[1;31m# Evaluate all genomes using the user-provided function.\u001b[0m\u001b[1;33m\u001b[0m\u001b[1;33m\u001b[0m\u001b[1;33m\u001b[0m\u001b[0m\n\u001b[1;32m---> 89\u001b[1;33m             \u001b[0mfitness_function\u001b[0m\u001b[1;33m(\u001b[0m\u001b[0mlist\u001b[0m\u001b[1;33m(\u001b[0m\u001b[0miteritems\u001b[0m\u001b[1;33m(\u001b[0m\u001b[0mself\u001b[0m\u001b[1;33m.\u001b[0m\u001b[0mpopulation\u001b[0m\u001b[1;33m)\u001b[0m\u001b[1;33m)\u001b[0m\u001b[1;33m,\u001b[0m \u001b[0mself\u001b[0m\u001b[1;33m.\u001b[0m\u001b[0mconfig\u001b[0m\u001b[1;33m)\u001b[0m\u001b[1;33m\u001b[0m\u001b[1;33m\u001b[0m\u001b[0m\n\u001b[0m\u001b[0;32m     90\u001b[0m \u001b[1;33m\u001b[0m\u001b[0m\n\u001b[0;32m     91\u001b[0m             \u001b[1;31m# Gather and report statistics.\u001b[0m\u001b[1;33m\u001b[0m\u001b[1;33m\u001b[0m\u001b[1;33m\u001b[0m\u001b[0m\n",
      "\u001b[1;32m<ipython-input-183-06b626a7cac3>\u001b[0m in \u001b[0;36meval_genomes\u001b[1;34m(genomes, config)\u001b[0m\n\u001b[0;32m     49\u001b[0m         \u001b[1;32mfor\u001b[0m \u001b[0midx\u001b[0m\u001b[1;33m,\u001b[0m \u001b[0mgenome\u001b[0m \u001b[1;32min\u001b[0m \u001b[0mgenomes\u001b[0m\u001b[1;33m:\u001b[0m\u001b[1;33m\u001b[0m\u001b[1;33m\u001b[0m\u001b[0m\n\u001b[0;32m     50\u001b[0m             \u001b[0mprint\u001b[0m\u001b[1;33m(\u001b[0m\u001b[0mgenome\u001b[0m\u001b[1;33m)\u001b[0m\u001b[1;33m\u001b[0m\u001b[1;33m\u001b[0m\u001b[0m\n\u001b[1;32m---> 51\u001b[1;33m             \u001b[0mgenome\u001b[0m\u001b[1;33m.\u001b[0m\u001b[0mfitness\u001b[0m \u001b[1;33m=\u001b[0m \u001b[0mevaluator\u001b[0m\u001b[1;33m.\u001b[0m\u001b[0meval_genome\u001b[0m\u001b[1;33m(\u001b[0m\u001b[0mgenome\u001b[0m\u001b[1;33m,\u001b[0m \u001b[0mconfig\u001b[0m\u001b[1;33m,\u001b[0m \u001b[0midx\u001b[0m\u001b[1;33m,\u001b[0m \u001b[0mrootPath\u001b[0m \u001b[1;33m=\u001b[0m \u001b[0mrootPath\u001b[0m\u001b[1;33m)\u001b[0m\u001b[1;33m\u001b[0m\u001b[1;33m\u001b[0m\u001b[0m\n\u001b[0m\u001b[0;32m     52\u001b[0m \u001b[1;33m\u001b[0m\u001b[0m\n\u001b[0;32m     53\u001b[0m     \u001b[0mpop\u001b[0m \u001b[1;33m=\u001b[0m \u001b[0mneat\u001b[0m\u001b[1;33m.\u001b[0m\u001b[0mPopulation\u001b[0m\u001b[1;33m(\u001b[0m\u001b[0mconfig\u001b[0m\u001b[1;33m)\u001b[0m\u001b[1;33m\u001b[0m\u001b[1;33m\u001b[0m\u001b[0m\n",
      "\u001b[1;32m~\\Desktop\\arizona95\\git\\BEAT\\lab\\evaluator.py\u001b[0m in \u001b[0;36meval_genome\u001b[1;34m(self, genome, config, idx, rootPath, debug)\u001b[0m\n\u001b[0;32m     35\u001b[0m \u001b[1;33m\u001b[0m\u001b[0m\n\u001b[0;32m     36\u001b[0m         \u001b[0mnet\u001b[0m \u001b[1;33m=\u001b[0m \u001b[0mself\u001b[0m\u001b[1;33m.\u001b[0m\u001b[0mmake_net\u001b[0m\u001b[1;33m(\u001b[0m\u001b[0mgenome\u001b[0m\u001b[1;33m,\u001b[0m \u001b[0mconfig\u001b[0m\u001b[1;33m,\u001b[0m \u001b[1;36m1\u001b[0m\u001b[1;33m)\u001b[0m\u001b[1;33m\u001b[0m\u001b[1;33m\u001b[0m\u001b[0m\n\u001b[1;32m---> 37\u001b[1;33m         \u001b[0mgene\u001b[0m \u001b[1;33m=\u001b[0m \u001b[0mGene\u001b[0m\u001b[1;33m(\u001b[0m\u001b[0mnet\u001b[0m\u001b[1;33m,\u001b[0m \u001b[0mself\u001b[0m\u001b[1;33m.\u001b[0m\u001b[0mparam\u001b[0m\u001b[1;33m)\u001b[0m\u001b[1;33m\u001b[0m\u001b[1;33m\u001b[0m\u001b[0m\n\u001b[0m\u001b[0;32m     38\u001b[0m         \u001b[0mgene\u001b[0m\u001b[1;33m.\u001b[0m\u001b[0mexpression\u001b[0m\u001b[1;33m(\u001b[0m\u001b[1;33m)\u001b[0m\u001b[1;33m\u001b[0m\u001b[1;33m\u001b[0m\u001b[0m\n\u001b[0;32m     39\u001b[0m         \u001b[0mmodel\u001b[0m \u001b[1;33m=\u001b[0m \u001b[0mgene\u001b[0m\u001b[1;33m.\u001b[0m\u001b[0mmodel\u001b[0m\u001b[1;33m\u001b[0m\u001b[1;33m\u001b[0m\u001b[0m\n",
      "\u001b[1;32m~\\Desktop\\arizona95\\git\\BEAT\\lab\\gene.py\u001b[0m in \u001b[0;36m__init__\u001b[1;34m(self, net, param)\u001b[0m\n\u001b[0;32m      9\u001b[0m \u001b[1;33m\u001b[0m\u001b[0m\n\u001b[0;32m     10\u001b[0m         \u001b[0mself\u001b[0m\u001b[1;33m.\u001b[0m\u001b[0mnet\u001b[0m \u001b[1;33m=\u001b[0m \u001b[0mnet\u001b[0m\u001b[1;33m\u001b[0m\u001b[1;33m\u001b[0m\u001b[0m\n\u001b[1;32m---> 11\u001b[1;33m         \u001b[0mself\u001b[0m\u001b[1;33m.\u001b[0m\u001b[0mg_c\u001b[0m \u001b[1;33m=\u001b[0m \u001b[0mparam\u001b[0m\u001b[1;33m[\u001b[0m\u001b[1;34m\"g_c\"\u001b[0m\u001b[1;33m]\u001b[0m\u001b[1;33m\u001b[0m\u001b[1;33m\u001b[0m\u001b[0m\n\u001b[0m\u001b[0;32m     12\u001b[0m         \u001b[0mself\u001b[0m\u001b[1;33m.\u001b[0m\u001b[0mg_g\u001b[0m \u001b[1;33m=\u001b[0m \u001b[0mparam\u001b[0m\u001b[1;33m[\u001b[0m\u001b[1;34m\"g_c\"\u001b[0m\u001b[1;33m]\u001b[0m\u001b[1;33m+\u001b[0m\u001b[1;36m1\u001b[0m\u001b[1;33m\u001b[0m\u001b[1;33m\u001b[0m\u001b[0m\n\u001b[0;32m     13\u001b[0m         \u001b[0mself\u001b[0m\u001b[1;33m.\u001b[0m\u001b[0mg_s\u001b[0m \u001b[1;33m=\u001b[0m \u001b[0mparam\u001b[0m\u001b[1;33m[\u001b[0m\u001b[1;34m\"g_s\"\u001b[0m\u001b[1;33m]\u001b[0m\u001b[1;33m\u001b[0m\u001b[1;33m\u001b[0m\u001b[0m\n",
      "\u001b[1;31mKeyError\u001b[0m: 'g_c'"
     ]
    },
    {
     "data": {
      "text/plain": [
       "<Figure size 432x288 with 0 Axes>"
      ]
     },
     "metadata": {},
     "output_type": "display_data"
    }
   ],
   "source": [
    "import os\n",
    "import gym\n",
    "import neat\n",
    "from evaluator import Evaluator\n",
    "from datetime import datetime\n",
    "from tf_neat.recurrent_net import RecurrentNet\n",
    "\n",
    "param = {\n",
    "    \"g_s\":3,\n",
    "    \"s_s\":2,\n",
    "    \"max_state\":5,\n",
    "    \"react_depth\":1,\n",
    "    \"neuron_num\":5,\n",
    "    \"input_num\":4,\n",
    "    \"output_num\":1\n",
    "}\n",
    "\n",
    "s = datetime.now().strftime('%Y-%m-%d-%Hh-%Mm-%Ss')\n",
    "rootPath = f\"generations\\{s}\"\n",
    "\n",
    "if not os.path.exists(rootPath):\n",
    "    os.makedirs(rootPath)\n",
    "    \n",
    "pop=\"\"\n",
    "\n",
    "def make_env():\n",
    "    return gym.make(\"CartPole-v0\")\n",
    "\n",
    "\n",
    "def make_net(genome, config, bs):\n",
    "    return RecurrentNet.create(genome, config, bs)\n",
    "\n",
    "def run(n_generations):\n",
    "    global pop\n",
    "    config_path = os.path.join(os.path.dirname(os.path.abspath('')), \"lab/neat.cfg\")\n",
    "    config = neat.Config(\n",
    "        neat.DefaultGenome,\n",
    "        neat.DefaultReproduction,\n",
    "        neat.DefaultSpeciesSet,\n",
    "        neat.DefaultStagnation,\n",
    "        config_path,\n",
    "    )\n",
    "\n",
    "    evaluator = Evaluator(\n",
    "        make_net, make_env=make_env, param=param\n",
    "    )\n",
    "\n",
    "    def eval_genomes(genomes, config):\n",
    "        for idx, genome in genomes:\n",
    "            print(genome)\n",
    "            genome.fitness = evaluator.eval_genome(genome, config, idx, rootPath = rootPath)\n",
    "\n",
    "    pop = neat.Population(config)\n",
    "    pop.run(eval_genomes, n_generations)\n",
    "\n",
    "run(10)"
   ]
  },
  {
   "cell_type": "code",
   "execution_count": 198,
   "id": "b1809814",
   "metadata": {
    "scrolled": true
   },
   "outputs": [
    {
     "name": "stdout",
     "output_type": "stream",
     "text": [
      "The autoreload extension is already loaded. To reload it, use:\n",
      "  %reload_ext autoreload\n",
      "[0, 0]\n",
      "[0, 0]\n",
      "[0, 0]\n",
      "[0, 1]\n",
      "[1, 0]\n",
      "[1, 0]\n",
      "[1, 0]\n",
      "[1, 1]\n",
      "[1, 1]\n",
      "[0, 0]\n",
      "[0, 0]\n",
      "[0, 0]\n",
      "[0, 1]\n",
      "[1, 0]\n",
      "[1, 0]\n",
      "[1, 0]\n",
      "[1, 1]\n",
      "[1, 1]\n",
      "[0, 0]\n",
      "[0, 0]\n",
      "[0, 0]\n",
      "[0, 1]\n",
      "[0, 1]\n",
      "[1, 0]\n",
      "[1, 0]\n",
      "[1, 0]\n",
      "[1, 1]\n",
      "[1, 1]\n",
      "[0, 0]\n",
      "[0, 0]\n",
      "[0, 0]\n",
      "[0, 1]\n",
      "[0, 1]\n",
      "[1, 0]\n",
      "[1, 0]\n",
      "[1, 0]\n",
      "[1, 1]\n",
      "[1, 1]\n",
      "[1, 1]\n",
      "[0, 0]\n",
      "[0, 0]\n",
      "[0, 0]\n",
      "[0, 1]\n",
      "[0, 1]\n",
      "[0, 1]\n",
      "[1, 0]\n",
      "[1, 0]\n",
      "[1, 0]\n",
      "[1, 1]\n",
      "[1, 1]\n",
      "[1, 1]\n",
      "[0, 0]\n",
      "[0, 0]\n",
      "[0, 0]\n",
      "[0, 1]\n",
      "[0, 1]\n",
      "[0, 1]\n",
      "[1, 0]\n",
      "[1, 0]\n",
      "[1, 0]\n",
      "[1, 1]\n",
      "[1, 1]\n",
      "[1, 1]\n"
     ]
    },
    {
     "data": {
      "image/png": "[encoded data removed]",
      "text/plain": [
       "<Figure size 432x288 with 1 Axes>"
      ]
     },
     "metadata": {
      "needs_background": "light"
     },
     "output_type": "display_data"
    }
   ],
   "source": [
    "%load_ext autoreload\n",
    "%autoreload 2\n",
    "import os\n",
    "import neat\n",
    "import pickle\n",
    "import numpy as np\n",
    "from gene import Gene\n",
    "from simulator import Simulator\n",
    "from tf_neat.recurrent_net import RecurrentNet\n",
    "np.set_printoptions(precision=10, suppress=True)\n",
    "\n",
    "def make_net(genome, config, bs):\n",
    "    return RecurrentNet.create(genome, config, bs)\n",
    "\n",
    "param = {\n",
    "    \"g_c\": 2,\n",
    "    \"g_s\": 3,\n",
    "    \"max_state\": 5,\n",
    "    \"react_depth\": 2,\n",
    "    \"neuron_num\": 6,\n",
    "    \"input_num\": ,\n",
    "    \"output_num\": 1\n",
    "}\n",
    "\n",
    "config_path = os.path.join(os.path.dirname(os.path.abspath('')), \"lab/neat.cfg\")\n",
    "config = neat.Config(\n",
    "    neat.DefaultGenome,\n",
    "    neat.DefaultReproduction,\n",
    "    neat.DefaultSpeciesSet,\n",
    "    neat.DefaultStagnation,\n",
    "    config_path,\n",
    ")\n",
    "\n",
    "filepath = f\"test_case\"\n",
    "case_num = 1\n",
    "genome = \"\"\n",
    "with open(f\"{filepath}\\\\{case_num}\\\\genome.JSON\", 'rb') as fr:\n",
    "    genome = pickle.load(fr)\n",
    "\n",
    "net = make_net(genome, config, 1)\n",
    "gene = Gene(net, param)\n",
    "gene.expression()\n",
    "gene.model_display(\"test_case\\\\debug\")\n",
    "model = gene.model\n",
    "simulator = Simulator(model, engine = \"bio\", ode_language='FORTRAN') # FORTRAN, PYTHON\n",
    "simulator.run(1)\n",
    "simulator.visualize()"
   ]
  },
  {
   "cell_type": "code",
   "execution_count": 140,
   "id": "210eafd9",
   "metadata": {},
   "outputs": [
    {
     "data": {
      "text/plain": [
       "array([[-10.],\n",
       "       [-10.],\n",
       "       [-10.],\n",
       "       [-10.],\n",
       "       [-10.],\n",
       "       [-10.],\n",
       "       [-10.],\n",
       "       [-10.],\n",
       "       [-10.],\n",
       "       [-10.],\n",
       "       [-10.],\n",
       "       [-10.],\n",
       "       [-10.],\n",
       "       [-10.],\n",
       "       [-10.],\n",
       "       [-10.],\n",
       "       [-10.],\n",
       "       [-10.],\n",
       "       [-10.],\n",
       "       [-10.],\n",
       "       [-10.],\n",
       "       [-10.],\n",
       "       [-10.],\n",
       "       [-10.],\n",
       "       [-10.],\n",
       "       [-10.],\n",
       "       [-10.],\n",
       "       [-10.]])"
      ]
     },
     "execution_count": 140,
     "metadata": {},
     "output_type": "execute_result"
    }
   ],
   "source": [
    "np.minimum(-10,simulator.system.a)"
   ]
  },
  {
   "cell_type": "code",
   "execution_count": 139,
   "id": "86ddc74d",
   "metadata": {},
   "outputs": [
    {
     "data": {
      "text/plain": [
       "array([[-7.3948298141],\n",
       "       [-7.394829814 ],\n",
       "       [-7.394829814 ],\n",
       "       [-7.394829814 ],\n",
       "       [-7.394829814 ],\n",
       "       [-7.4028219925],\n",
       "       [-7.3949948314],\n",
       "       [-7.3948439471],\n",
       "       [-7.3948311783],\n",
       "       [-7.3948298763],\n",
       "       [-7.39482982  ],\n",
       "       [-7.3948298187],\n",
       "       [-7.3948298143],\n",
       "       [-7.3948298142],\n",
       "       [-7.394829814 ],\n",
       "       [-7.394829814 ],\n",
       "       [-7.394829814 ],\n",
       "       [-7.394829814 ],\n",
       "       [-7.3948323723],\n",
       "       [-7.3948299308],\n",
       "       [-7.3948298253],\n",
       "       [-7.3948298145],\n",
       "       [-7.3948298141],\n",
       "       [-7.3948298141],\n",
       "       [-7.394829814 ],\n",
       "       [-7.394829814 ],\n",
       "       [-7.394829814 ],\n",
       "       [-7.394829814 ]])"
      ]
     },
     "execution_count": 139,
     "metadata": {},
     "output_type": "execute_result"
    }
   ],
   "source": [
    "simulator.system.a"
   ]
  },
  {
   "cell_type": "code",
   "execution_count": 49,
   "id": "7944be54",
   "metadata": {},
   "outputs": [
    {
     "data": {
      "text/plain": [
       "{'0/0/0': 1.4693150772024737,\n",
       " '0/0/1': 1.239355482801582,\n",
       " '0/1/0': 0.6417558297584608,\n",
       " '0/1/1': 0.6142862503382716,\n",
       " '1/0/0': 0.5156937379698163,\n",
       " '1/0/1': 0.5543227739236397,\n",
       " '1/1/0': 0.5033336053579379,\n",
       " '1/1/1': 0.5026061630418811,\n",
       " '2/0/0': 0.5003227678387656,\n",
       " '2/0/1': 0.5004745091475884,\n",
       " '2/1/0': 0.500027641656917,\n",
       " '2/1/1': 0.5000215942054879,\n",
       " '3/0/0': 0.5000026683389824,\n",
       " '3/0/1': 0.5000020912338371,\n",
       " '3/1/0': 0.5000001217667781,\n",
       " '3/1/1': 0.5000000951260268,\n",
       " '4/0/0': 0.5000000117542506,\n",
       " '4/0/1': 0.5000000091827017,\n",
       " '4/1/0': 0.5000000005346823,\n",
       " '4/1/1': 0.5000000004177019,\n",
       " '5/0/0': 0.5000000000516134,\n",
       " '5/0/1': 0.5000000000403211,\n",
       " '5/1/0': 0.5000000000023478,\n",
       " '5/1/1': 0.5000000000018341}"
      ]
     },
     "execution_count": 49,
     "metadata": {},
     "output_type": "execute_result"
    }
   ],
   "source": [
    "gene.V"
   ]
  },
  {
   "cell_type": "code",
   "execution_count": 86,
   "id": "f64ac3c0",
   "metadata": {},
   "outputs": [
    {
     "name": "stdout",
     "output_type": "stream",
     "text": [
      "The autoreload extension is already loaded. To reload it, use:\n",
      "  %reload_ext autoreload\n",
      "Success. 0:00:00.249003 taken for simulating\n"
     ]
    },
    {
     "data": {
      "image/png": "[encoded data removed]",
      "text/plain": [
       "<Figure size 432x288 with 1 Axes>"
      ]
     },
     "metadata": {
      "needs_background": "light"
     },
     "output_type": "display_data"
    }
   ],
   "source": [
    "%load_ext autoreload\n",
    "%autoreload 2\n",
    "import os\n",
    "import neat\n",
    "import pickle\n",
    "import numpy as np\n",
    "from gene import Gene\n",
    "from simulator import Simulator\n",
    "from tf_neat.recurrent_net import RecurrentNet\n",
    "np.set_printoptions(precision=10, suppress=True)\n",
    "\n",
    "def make_net(genome, config, bs):\n",
    "    return RecurrentNet.create(genome, config, bs)\n",
    "\n",
    "param = {\n",
    "    \"g_c\": 2,\n",
    "    \"g_s\": 3,\n",
    "    \"max_state\": 5,\n",
    "    \"react_depth\": 2,\n",
    "    \"neuron_num\": 6,\n",
    "    \"input_num\": 4,\n",
    "    \"output_num\": 1\n",
    "}\n",
    "\n",
    "config_path = os.path.join(os.path.dirname(os.path.abspath('')), \"lab/neat.cfg\")\n",
    "config = neat.Config(\n",
    "    neat.DefaultGenome,\n",
    "    neat.DefaultReproduction,\n",
    "    neat.DefaultSpeciesSet,\n",
    "    neat.DefaultStagnation,\n",
    "    config_path,\n",
    ")\n",
    "\n",
    "filepath = f\"test_case\"\n",
    "case_num = 7\n",
    "genome = \"\"\n",
    "with open(f\"{filepath}\\\\{case_num}\\\\genome.JSON\", 'rb') as fr:\n",
    "    genome = pickle.load(fr)\n",
    "\n",
    "net = make_net(genome, config, 1)\n",
    "gene = Gene(net, param)\n",
    "gene.expression()\n",
    "model = gene.model\n",
    "simulator = Simulator(model, engine = \"phy\", ode_language='FORTRAN') # FORTRAN, PYTHON\n",
    "simulator.run(0.001)\n",
    "simulator.visualize()"
   ]
  },
  {
   "cell_type": "code",
   "execution_count": null,
   "id": "4fc020b1",
   "metadata": {},
   "outputs": [],
   "source": [
    "modeld = gene.model\n",
    "np.take(simulator.system.x_0,[1])"
   ]
  },
  {
   "cell_type": "code",
   "execution_count": null,
   "id": "2e38deea",
   "metadata": {},
   "outputs": [],
   "source": [
    "modeld = gene.model\n",
    "modeld[\"M_\"]"
   ]
  },
  {
   "cell_type": "code",
   "execution_count": null,
   "id": "fbab3832",
   "metadata": {},
   "outputs": [],
   "source": [
    "simulator.system.diff1"
   ]
  },
  {
   "cell_type": "code",
   "execution_count": null,
   "id": "9edd477f",
   "metadata": {},
   "outputs": [],
   "source": [
    "simulator.system.diff2"
   ]
  },
  {
   "cell_type": "code",
   "execution_count": null,
   "id": "1326d492",
   "metadata": {},
   "outputs": [],
   "source": [
    "np.exp(-modeld[\"a\"])"
   ]
  },
  {
   "cell_type": "code",
   "execution_count": null,
   "id": "a2a34d20",
   "metadata": {},
   "outputs": [],
   "source": [
    "M_ = modeld[\"M_\"].to_numpy()"
   ]
  },
  {
   "cell_type": "code",
   "execution_count": null,
   "id": "cff8bae7",
   "metadata": {},
   "outputs": [],
   "source": [
    " def relu(x) :\n",
    "    return np.maximum(0,x)\n",
    "relu(M_[:,:4]).argmax(axis=0)"
   ]
  },
  {
   "cell_type": "code",
   "execution_count": null,
   "id": "235453c7",
   "metadata": {},
   "outputs": [],
   "source": [
    "np.where(relu(M_[:,:4])>0,1,0)"
   ]
  },
  {
   "cell_type": "code",
   "execution_count": null,
   "id": "ae2e9873",
   "metadata": {
    "scrolled": true
   },
   "outputs": [],
   "source": [
    "np.where(relu(M_[:,:4])>0,modeld[\"x_0\"],0)"
   ]
  },
  {
   "cell_type": "code",
   "execution_count": null,
   "id": "62769edb",
   "metadata": {},
   "outputs": [],
   "source": [
    "M_r = relu(M_[:,:4])"
   ]
  },
  {
   "cell_type": "code",
   "execution_count": null,
   "id": "4a5a5b18",
   "metadata": {},
   "outputs": [],
   "source": [
    "M_r.shape"
   ]
  },
  {
   "cell_type": "code",
   "execution_count": null,
   "id": "d243a7ed",
   "metadata": {},
   "outputs": [],
   "source": [
    "reactant = np.zeros(M_r.shape)\n",
    "reactant[np.arange(M_r.shape[1]), np.argmax(M_r, axis=0)] =1"
   ]
  },
  {
   "cell_type": "code",
   "execution_count": null,
   "id": "5ca7f13e",
   "metadata": {},
   "outputs": [],
   "source": [
    "reactant.argmax(axis=0)"
   ]
  },
  {
   "cell_type": "code",
   "execution_count": null,
   "id": "c0c67930",
   "metadata": {},
   "outputs": [],
   "source": [
    "np.apply_along_axis(lambda x: x[reactant.argmax(axis=0)], 0, modeld[\"x_0\"])"
   ]
  },
  {
   "cell_type": "code",
   "execution_count": null,
   "id": "c13f8c29",
   "metadata": {},
   "outputs": [],
   "source": [
    "M_r"
   ]
  },
  {
   "cell_type": "code",
   "execution_count": null,
   "id": "9a6a222d",
   "metadata": {},
   "outputs": [],
   "source": [
    "(M_r - reactant).argmax( axis=0)"
   ]
  },
  {
   "cell_type": "code",
   "execution_count": null,
   "id": "6d5398ff",
   "metadata": {},
   "outputs": [],
   "source": [
    "np.arange(M_r.shape[0])"
   ]
  },
  {
   "cell_type": "code",
   "execution_count": null,
   "id": "b9f7e847",
   "metadata": {},
   "outputs": [],
   "source": [
    "re = np.ones(4)"
   ]
  },
  {
   "cell_type": "code",
   "execution_count": null,
   "id": "a1ed7763",
   "metadata": {},
   "outputs": [],
   "source": [
    "np.apply_along_axis(lambda x: x, 1, relu(M_[:,:4]))"
   ]
  },
  {
   "cell_type": "code",
   "execution_count": null,
   "id": "d6e920f5",
   "metadata": {},
   "outputs": [],
   "source": [
    "relu(M_[:,:4])"
   ]
  },
  {
   "cell_type": "code",
   "execution_count": null,
   "id": "3bacdf2d",
   "metadata": {},
   "outputs": [],
   "source": [
    "modeld[\"x_0\"]"
   ]
  },
  {
   "cell_type": "code",
   "execution_count": null,
   "id": "6e8a4342",
   "metadata": {},
   "outputs": [],
   "source": [
    "np.exp(modeld[\"a\"])"
   ]
  },
  {
   "cell_type": "code",
   "execution_count": null,
   "id": "5c021659",
   "metadata": {},
   "outputs": [],
   "source": [
    "simulator = Simulator.by_file(filepath)\n",
    "simulator.model_dict[\"M_\"]"
   ]
  },
  {
   "cell_type": "code",
   "execution_count": null,
   "id": "dce7afb2",
   "metadata": {},
   "outputs": [],
   "source": []
  },
  {
   "cell_type": "code",
   "execution_count": null,
   "id": "217c7489",
   "metadata": {},
   "outputs": [],
   "source": [
    "simulator.model_dict[\"S\"]"
   ]
  },
  {
   "cell_type": "code",
   "execution_count": null,
   "id": "d6d6d814",
   "metadata": {},
   "outputs": [],
   "source": [
    "simulator.model[\"S\"]"
   ]
  },
  {
   "cell_type": "code",
   "execution_count": null,
   "id": "4064bdcb",
   "metadata": {},
   "outputs": [],
   "source": [
    "#simulator = Simulator.by_file(filepath)\n",
    "simulator.run(0.1)\n",
    "simulator.visualize()"
   ]
  },
  {
   "cell_type": "code",
   "execution_count": null,
   "id": "8479820f",
   "metadata": {},
   "outputs": [],
   "source": [
    "simulator.model"
   ]
  },
  {
   "cell_type": "code",
   "execution_count": null,
   "id": "88be55bc",
   "metadata": {},
   "outputs": [],
   "source": [
    "import numpy as np\n",
    "from simulator import Simulator\n",
    "np.set_printoptions(precision=6, suppress=True)\n",
    "time = \"2022-04-28-08h-34m-27s\"\n",
    "gen_idx =1\n",
    "idx = 74\n",
    "filepath = f\"generations\\\\{time}\\\\gen_{gen_idx}\\\\{idx}\"\n",
    "\n",
    "simulator = Simulator.by_file(filepath)\n",
    "\n",
    "\n",
    "#simulator.run(0.1)\n",
    "#simulator.visualize(savePath=savePath)\n"
   ]
  },
  {
   "cell_type": "code",
   "execution_count": null,
   "id": "40de3d9a",
   "metadata": {},
   "outputs": [],
   "source": [
    "simulator.run(0.7)"
   ]
  },
  {
   "cell_type": "code",
   "execution_count": null,
   "id": "103b8a6e",
   "metadata": {},
   "outputs": [],
   "source": [
    "## np.dot(self.x.T, self.V) +\\\n",
    "## np.dot(self.q, np.dot(1 / (self.D + 1) - 1, self.q.T))\n",
    "\n",
    "q = np.dot(np.diag(np.dot(simulator.model['M'], simulator.model['q_c']).T[0]), simulator.model['S'])\n",
    "V = np.dot(q, np.dot(1/(simulator.model['D']+1)-1 ,q.T))\n",
    "\n",
    "np.dot(q.T, simulator.model['M_'])[0].shape\n",
    "\n",
    "#np.dot(simulator.model['M'].T, simulator.model['M_'])\n"
   ]
  },
  {
   "cell_type": "code",
   "execution_count": null,
   "id": "cb0b6f00",
   "metadata": {},
   "outputs": [],
   "source": [
    "simulator.model[\"x\"]"
   ]
  },
  {
   "cell_type": "code",
   "execution_count": null,
   "id": "fdd50bdf",
   "metadata": {},
   "outputs": [],
   "source": [
    "simulator.system.M_[7]"
   ]
  },
  {
   "cell_type": "code",
   "execution_count": null,
   "id": "a66171ec",
   "metadata": {
    "scrolled": true
   },
   "outputs": [],
   "source": [
    "np.exp(np.dot(np.abs(simulator.system.M_).T, np.log(simulator.system.x)))"
   ]
  },
  {
   "cell_type": "code",
   "execution_count": null,
   "id": "90889d71",
   "metadata": {},
   "outputs": [],
   "source": [
    "simulator.model_dict[\"M_\"]"
   ]
  },
  {
   "cell_type": "code",
   "execution_count": null,
   "id": "2563a413",
   "metadata": {},
   "outputs": [],
   "source": [
    "simulator.run(0.001)"
   ]
  },
  {
   "cell_type": "code",
   "execution_count": null,
   "id": "ed3d9a4a",
   "metadata": {},
   "outputs": [],
   "source": [
    "simulator.run(0.62)"
   ]
  },
  {
   "cell_type": "code",
   "execution_count": null,
   "id": "deca671f",
   "metadata": {},
   "outputs": [],
   "source": [
    "simulator.model"
   ]
  },
  {
   "cell_type": "code",
   "execution_count": null,
   "id": "4fc68999",
   "metadata": {},
   "outputs": [],
   "source": [
    "print(simulator.model['M'].shape)\n",
    "print(simulator.model['q_c'].shape)\n",
    "print(simulator.model['S'].shape)\n",
    "print(q.shape)"
   ]
  },
  {
   "cell_type": "code",
   "execution_count": null,
   "id": "a8b51ce8",
   "metadata": {},
   "outputs": [],
   "source": [
    "type(simulator.model_dict['M_'])"
   ]
  },
  {
   "cell_type": "code",
   "execution_count": null,
   "id": "e476306e",
   "metadata": {},
   "outputs": [],
   "source": [
    "np.dot(q.T, simulator.model['M_'])[:,0]"
   ]
  },
  {
   "cell_type": "code",
   "execution_count": null,
   "id": "dfc2acfd",
   "metadata": {},
   "outputs": [],
   "source": [
    "q.shape"
   ]
  },
  {
   "cell_type": "code",
   "execution_count": null,
   "id": "21b580d3",
   "metadata": {},
   "outputs": [],
   "source": [
    "2.71**813.911757"
   ]
  },
  {
   "cell_type": "code",
   "execution_count": null,
   "id": "bdb6d531",
   "metadata": {},
   "outputs": [],
   "source": [
    "simulator.history[\"xp\"][:1]"
   ]
  },
  {
   "cell_type": "code",
   "execution_count": null,
   "id": "60c08ba1",
   "metadata": {},
   "outputs": [],
   "source": [
    "from system import System\n",
    "system = System(simulator.model)"
   ]
  },
  {
   "cell_type": "code",
   "execution_count": null,
   "id": "06d30022",
   "metadata": {},
   "outputs": [],
   "source": [
    "system.energy()"
   ]
  },
  {
   "cell_type": "code",
   "execution_count": null,
   "id": "3152c2b0",
   "metadata": {},
   "outputs": [],
   "source": [
    "np.set_printoptions(precision=6, suppress=True)\n",
    "system.flow()"
   ]
  },
  {
   "cell_type": "code",
   "execution_count": null,
   "id": "4706fe25",
   "metadata": {},
   "outputs": [],
   "source": []
  }
 ],
 "metadata": {
  "kernelspec": {
   "display_name": "Python 3",
   "language": "python",
   "name": "python3"
  },
  "language_info": {
   "codemirror_mode": {
    "name": "ipython",
    "version": 3
   },
   "file_extension": ".py",
   "mimetype": "text/x-python",
   "name": "python",
   "nbconvert_exporter": "python",
   "pygments_lexer": "ipython3",
   "version": "3.7.10"
  }
 },
 "nbformat": 4,
 "nbformat_minor": 5
}
