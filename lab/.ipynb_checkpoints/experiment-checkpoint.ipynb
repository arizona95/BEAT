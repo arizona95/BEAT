{
 "cells": [
  {
   "cell_type": "code",
   "execution_count": 1,
   "id": "e26efc11",
   "metadata": {},
   "outputs": [],
   "source": [
    "%load_ext autoreload\n",
    "%autoreload 2"
   ]
  },
  {
   "cell_type": "code",
   "execution_count": 2,
   "id": "de9e1c64",
   "metadata": {
    "scrolled": true
   },
   "outputs": [
    {
     "name": "stderr",
     "output_type": "stream",
     "text": [
      "C:\\Users\\arizona\\Desktop\\Brain\\BEAT\\lab\\evaluator.py:24: DeprecationWarning: invalid escape sequence \\{\n",
      "  savePath = f\"{rootPath}\\{str(idx)}\"\n",
      "C:\\Users\\arizona\\Anaconda3\\envs\\tensorflow\\lib\\site-packages\\ipykernel\\pylab\\backend_inline.py:164: DeprecationWarning: `configure_inline_support` is deprecated since IPython 7.23, directly use `matplotlib_inline.backend_inline.configure_inline_support()`\n",
      "  configure_inline_support(ip, backend)\n",
      "C:\\Users\\arizona\\Anaconda3\\envs\\tensorflow\\lib\\site-packages\\tensorflow_core\\python\\framework\\dtypes.py:601: DeprecationWarning: `np.object` is a deprecated alias for the builtin `object`. To silence this warning, use `object` by itself. Doing this will not modify any behavior and is safe. \n",
      "Deprecated in NumPy 1.20; for more details and guidance: https://numpy.org/devdocs/release/1.20.0-notes.html#deprecations\n",
      "  np.object,\n",
      "C:\\Users\\arizona\\Anaconda3\\envs\\tensorflow\\lib\\site-packages\\tensorflow_core\\python\\framework\\dtypes.py:609: DeprecationWarning: `np.bool` is a deprecated alias for the builtin `bool`. To silence this warning, use `bool` by itself. Doing this will not modify any behavior and is safe. If you specifically wanted the numpy scalar type, use `np.bool_` here.\n",
      "Deprecated in NumPy 1.20; for more details and guidance: https://numpy.org/devdocs/release/1.20.0-notes.html#deprecations\n",
      "  np.bool,\n",
      "C:\\Users\\arizona\\Anaconda3\\envs\\tensorflow\\lib\\site-packages\\tensorflow_core\\python\\framework\\tensor_util.py:174: DeprecationWarning: `np.object` is a deprecated alias for the builtin `object`. To silence this warning, use `object` by itself. Doing this will not modify any behavior and is safe. \n",
      "Deprecated in NumPy 1.20; for more details and guidance: https://numpy.org/devdocs/release/1.20.0-notes.html#deprecations\n",
      "  np.object: SlowAppendObjectArrayToTensorProto,\n",
      "C:\\Users\\arizona\\Anaconda3\\envs\\tensorflow\\lib\\site-packages\\tensorflow_core\\python\\framework\\tensor_util.py:175: DeprecationWarning: `np.bool` is a deprecated alias for the builtin `bool`. To silence this warning, use `bool` by itself. Doing this will not modify any behavior and is safe. If you specifically wanted the numpy scalar type, use `np.bool_` here.\n",
      "Deprecated in NumPy 1.20; for more details and guidance: https://numpy.org/devdocs/release/1.20.0-notes.html#deprecations\n",
      "  np.bool: SlowAppendBoolArrayToTensorProto,\n",
      "C:\\Users\\arizona\\Anaconda3\\envs\\tensorflow\\lib\\site-packages\\tensorboard\\compat\\tensorflow_stub\\dtypes.py:568: DeprecationWarning: `np.object` is a deprecated alias for the builtin `object`. To silence this warning, use `object` by itself. Doing this will not modify any behavior and is safe. \n",
      "Deprecated in NumPy 1.20; for more details and guidance: https://numpy.org/devdocs/release/1.20.0-notes.html#deprecations\n",
      "  (np.object, string),\n",
      "C:\\Users\\arizona\\Anaconda3\\envs\\tensorflow\\lib\\site-packages\\tensorboard\\compat\\tensorflow_stub\\dtypes.py:569: DeprecationWarning: `np.bool` is a deprecated alias for the builtin `bool`. To silence this warning, use `bool` by itself. Doing this will not modify any behavior and is safe. If you specifically wanted the numpy scalar type, use `np.bool_` here.\n",
      "Deprecated in NumPy 1.20; for more details and guidance: https://numpy.org/devdocs/release/1.20.0-notes.html#deprecations\n",
      "  (np.bool, bool),\n",
      "C:\\Users\\arizona\\Anaconda3\\envs\\tensorflow\\lib\\site-packages\\tensorboard\\util\\tensor_util.py:100: DeprecationWarning: `np.object` is a deprecated alias for the builtin `object`. To silence this warning, use `object` by itself. Doing this will not modify any behavior and is safe. \n",
      "Deprecated in NumPy 1.20; for more details and guidance: https://numpy.org/devdocs/release/1.20.0-notes.html#deprecations\n",
      "  np.object: SlowAppendObjectArrayToTensorProto,\n",
      "C:\\Users\\arizona\\Anaconda3\\envs\\tensorflow\\lib\\site-packages\\tensorboard\\util\\tensor_util.py:101: DeprecationWarning: `np.bool` is a deprecated alias for the builtin `bool`. To silence this warning, use `bool` by itself. Doing this will not modify any behavior and is safe. If you specifically wanted the numpy scalar type, use `np.bool_` here.\n",
      "Deprecated in NumPy 1.20; for more details and guidance: https://numpy.org/devdocs/release/1.20.0-notes.html#deprecations\n",
      "  np.bool: SlowAppendBoolArrayToTensorProto,\n",
      "C:\\Users\\arizona\\Anaconda3\\envs\\tensorflow\\lib\\site-packages\\neat\\config.py:176: DeprecationWarning: Using default False for 'no_fitness_termination'\n",
      "  DeprecationWarning)\n",
      "C:\\Users\\arizona\\Anaconda3\\envs\\tensorflow\\lib\\site-packages\\neat\\config.py:57: DeprecationWarning: Using default 'false' for 'single_structural_mutation'\n",
      "  DeprecationWarning)\n",
      "C:\\Users\\arizona\\Anaconda3\\envs\\tensorflow\\lib\\site-packages\\neat\\config.py:57: DeprecationWarning: Using default 'default' for 'structural_mutation_surer'\n",
      "  DeprecationWarning)\n",
      "C:\\Users\\arizona\\Anaconda3\\envs\\tensorflow\\lib\\site-packages\\neat\\config.py:57: DeprecationWarning: Using default 'gaussian' for 'bias_init_type'\n",
      "  DeprecationWarning)\n",
      "C:\\Users\\arizona\\Anaconda3\\envs\\tensorflow\\lib\\site-packages\\neat\\config.py:57: DeprecationWarning: Using default 'gaussian' for 'response_init_type'\n",
      "  DeprecationWarning)\n",
      "C:\\Users\\arizona\\Anaconda3\\envs\\tensorflow\\lib\\site-packages\\neat\\config.py:57: DeprecationWarning: Using default 'gaussian' for 'weight_init_type'\n",
      "  DeprecationWarning)\n",
      "C:\\Users\\arizona\\Anaconda3\\envs\\tensorflow\\lib\\site-packages\\neat\\config.py:57: DeprecationWarning: Using default 0.0 for 'enabled_rate_to_true_add'\n",
      "  DeprecationWarning)\n",
      "C:\\Users\\arizona\\Anaconda3\\envs\\tensorflow\\lib\\site-packages\\neat\\config.py:57: DeprecationWarning: Using default 0.0 for 'enabled_rate_to_false_add'\n",
      "  DeprecationWarning)\n",
      "C:\\Users\\arizona\\Anaconda3\\envs\\tensorflow\\lib\\site-packages\\neat\\config.py:57: DeprecationWarning: Using default 0 for 'species_elitism'\n",
      "  DeprecationWarning)\n",
      "C:\\Users\\arizona\\Anaconda3\\envs\\tensorflow\\lib\\site-packages\\neat\\config.py:57: DeprecationWarning: Using default 2 for 'min_species_size'\n",
      "  DeprecationWarning)\n",
      "C:\\Users\\arizona\\Anaconda3\\envs\\tensorflow\\lib\\site-packages\\gym\\envs\\registration.py:506: UserWarning: \u001b[33mWARN: The environment CartPole-v0 is out of date. You should consider upgrading to version `v1` with the environment ID `CartPole-v1`.\u001b[0m\n",
      "  f\"The environment {path} is out of date. You should consider \"\n"
     ]
    },
    {
     "ename": "SystemExit",
     "evalue": "",
     "output_type": "error",
     "traceback": [
      "An exception has occurred, use %tb to see the full traceback.\n",
      "\u001b[1;31mSystemExit\u001b[0m\n"
     ]
    },
    {
     "name": "stderr",
     "output_type": "stream",
     "text": [
      "C:\\Users\\arizona\\Anaconda3\\envs\\tensorflow\\lib\\site-packages\\IPython\\core\\interactiveshell.py:3449: UserWarning: To exit: use 'exit', 'quit', or Ctrl-D.\n",
      "  warn(\"To exit: use 'exit', 'quit', or Ctrl-D.\", stacklevel=1)\n"
     ]
    }
   ],
   "source": [
    "import os\n",
    "import gym\n",
    "import neat\n",
    "from evaluator import Evaluator\n",
    "from datetime import datetime\n",
    "from tf_neat.recurrent_net import RecurrentNet\n",
    "\n",
    "param = {\n",
    "    \"g_s\":3,\n",
    "    \"s_s\":2,\n",
    "    \"max_state\":5,\n",
    "    \"react_depth\":1,\n",
    "    \"neuron_num\":5,\n",
    "    \"input_num\":4,\n",
    "    \"output_num\":1\n",
    "}\n",
    "\n",
    "s = datetime.now().strftime('%Y-%m-%d-%Hh-%Mm-%Ss')\n",
    "rootPath = f\"generations\\{s}\"\n",
    "\n",
    "if not os.path.exists(rootPath):\n",
    "    os.makedirs(rootPath)\n",
    "    \n",
    "pop=\"\"\n",
    "\n",
    "def make_env():\n",
    "    return gym.make(\"CartPole-v0\")\n",
    "\n",
    "\n",
    "def make_net(genome, config, bs):\n",
    "    return RecurrentNet.create(genome, config, bs)\n",
    "\n",
    "def run(n_generations):\n",
    "    global pop\n",
    "    config_path = os.path.join(os.path.dirname(os.path.abspath('')), \"lab/neat.cfg\")\n",
    "    config = neat.Config(\n",
    "        neat.DefaultGenome,\n",
    "        neat.DefaultReproduction,\n",
    "        neat.DefaultSpeciesSet,\n",
    "        neat.DefaultStagnation,\n",
    "        config_path,\n",
    "    )\n",
    "\n",
    "    evaluator = Evaluator(\n",
    "        make_net, make_env=make_env, param=param\n",
    "    )\n",
    "\n",
    "    def eval_genomes(genomes, config):\n",
    "        for idx, genome in genomes:\n",
    "            print(genomes)\n",
    "            genome.fitness = evaluator.eval_genome(genome, config, idx, rootPath = rootPath)\n",
    "\n",
    "    pop = neat.Population(config)\n",
    "    pop.run(eval_genomes, n_generations)\n",
    "\n",
    "run(10)"
   ]
  },
  {
   "cell_type": "code",
   "execution_count": 6,
   "id": "91e56b8c",
   "metadata": {},
   "outputs": [
    {
     "data": {
      "text/plain": [
       "['__class__',\n",
       " '__delattr__',\n",
       " '__dict__',\n",
       " '__dir__',\n",
       " '__doc__',\n",
       " '__eq__',\n",
       " '__format__',\n",
       " '__ge__',\n",
       " '__getattribute__',\n",
       " '__gt__',\n",
       " '__hash__',\n",
       " '__init__',\n",
       " '__init_subclass__',\n",
       " '__le__',\n",
       " '__lt__',\n",
       " '__module__',\n",
       " '__ne__',\n",
       " '__new__',\n",
       " '__reduce__',\n",
       " '__reduce_ex__',\n",
       " '__repr__',\n",
       " '__setattr__',\n",
       " '__sizeof__',\n",
       " '__str__',\n",
       " '__subclasshook__',\n",
       " '__weakref__',\n",
       " 'add_reporter',\n",
       " 'best_genome',\n",
       " 'config',\n",
       " 'fitness_criterion',\n",
       " 'generation',\n",
       " 'population',\n",
       " 'remove_reporter',\n",
       " 'reporters',\n",
       " 'reproduction',\n",
       " 'run',\n",
       " 'species']"
      ]
     },
     "execution_count": 6,
     "metadata": {},
     "output_type": "execute_result"
    }
   ],
   "source": [
    "dir(pop)"
   ]
  },
  {
   "cell_type": "code",
   "execution_count": 7,
   "id": "fae44712",
   "metadata": {},
   "outputs": [
    {
     "data": {
      "text/plain": [
       "0"
      ]
     },
     "execution_count": 7,
     "metadata": {},
     "output_type": "execute_result"
    }
   ],
   "source": [
    "pop.generation"
   ]
  },
  {
   "cell_type": "code",
   "execution_count": null,
   "id": "16f8f5ea",
   "metadata": {},
   "outputs": [],
   "source": [
    "import gym\n",
    "\n",
    "env = gym.make('CartPole-v1')\n",
    "\n",
    "# 새로운 에피소드 시작\n",
    "env.reset()\n",
    "\n",
    "# 게임 환경에서 선택할 수 있는 행동\n",
    "action = env.action_space.sample()\n",
    "action"
   ]
  },
  {
   "cell_type": "code",
   "execution_count": null,
   "id": "ec0ab8c6",
   "metadata": {},
   "outputs": [],
   "source": [
    "env.action_space"
   ]
  },
  {
   "cell_type": "code",
   "execution_count": null,
   "id": "e272a3d9",
   "metadata": {},
   "outputs": [],
   "source": [
    "a = np.array([1,2,3,4,5,6])\n",
    "c,d = a.reshape(2,-1)"
   ]
  },
  {
   "cell_type": "code",
   "execution_count": null,
   "id": "c77828bd",
   "metadata": {},
   "outputs": [],
   "source": [
    "c"
   ]
  },
  {
   "cell_type": "code",
   "execution_count": null,
   "id": "ef83f4bd",
   "metadata": {},
   "outputs": [],
   "source": [
    "import pandas as pd\n",
    "dict_a = {\"a\":{\"s1\":1, \"s2\":2}, \"b\":{\"s3\":3}}\n",
    "a = pd.DataFrame.from_dict(dict_a).T"
   ]
  },
  {
   "cell_type": "code",
   "execution_count": null,
   "id": "88be55bc",
   "metadata": {},
   "outputs": [],
   "source": [
    "import numpy as np\n",
    "from simulator import Simulator\n",
    "np.set_printoptions(precision=6, suppress=True)\n",
    "time = \"2022-04-26-15h-23m-23s\"\n",
    "idx = 1\n",
    "filepath = f\"generations\\\\{time}\\\\{str(idx)}\"\n",
    "simulator = Simulator.by_file(filepath)\n",
    "\n",
    "\n",
    "#input_vector = np.array([15,1,2,3])\n",
    "#simulator.input(input_vector)\n",
    "\n",
    "simulator.run(0.0000000000000000000001)\n",
    "simulator.show()\n"
   ]
  },
  {
   "cell_type": "code",
   "execution_count": null,
   "id": "2e620f90",
   "metadata": {
    "scrolled": true
   },
   "outputs": [],
   "source": [
    "np.log(simulator.model['x_0']+1).T"
   ]
  },
  {
   "cell_type": "code",
   "execution_count": null,
   "id": "231efca3",
   "metadata": {},
   "outputs": [],
   "source": [
    "simulator.model['a'].T"
   ]
  },
  {
   "cell_type": "code",
   "execution_count": null,
   "id": "103b8a6e",
   "metadata": {},
   "outputs": [],
   "source": [
    "## np.dot(self.x.T, self.V) +\\\n",
    "## np.dot(self.q, np.dot(1 / (self.D + 1) - 1, self.q.T))\n",
    "\n",
    "q = np.dot(np.diag(np.dot(simulator.model['M'], simulator.model['q_c']).T[0]), simulator.model['S'])\n",
    "V = np.dot(q, np.dot(1/(simulator.model['D']+1)-1 ,q.T))\n",
    "\n",
    "np.dot(q.T, simulator.model['M_'])[0].shape\n",
    "\n",
    "#np.dot(simulator.model['M'].T, simulator.model['M_'])\n"
   ]
  },
  {
   "cell_type": "code",
   "execution_count": null,
   "id": "cb0b6f00",
   "metadata": {},
   "outputs": [],
   "source": [
    "simulator.model"
   ]
  },
  {
   "cell_type": "code",
   "execution_count": null,
   "id": "4fc68999",
   "metadata": {},
   "outputs": [],
   "source": [
    "print(simulator.model['M'].shape)\n",
    "print(simulator.model['q_c'].shape)\n",
    "print(simulator.model['S'].shape)\n",
    "print(q.shape)"
   ]
  },
  {
   "cell_type": "code",
   "execution_count": null,
   "id": "a8b51ce8",
   "metadata": {},
   "outputs": [],
   "source": [
    "type(simulator.model_dict['M_'])"
   ]
  },
  {
   "cell_type": "code",
   "execution_count": null,
   "id": "e476306e",
   "metadata": {},
   "outputs": [],
   "source": [
    "np.dot(q.T, simulator.model['M_'])[:,0]"
   ]
  },
  {
   "cell_type": "code",
   "execution_count": null,
   "id": "dfc2acfd",
   "metadata": {},
   "outputs": [],
   "source": [
    "q.shape"
   ]
  },
  {
   "cell_type": "code",
   "execution_count": null,
   "id": "21b580d3",
   "metadata": {},
   "outputs": [],
   "source": [
    "2.71**813.911757"
   ]
  },
  {
   "cell_type": "code",
   "execution_count": null,
   "id": "bdb6d531",
   "metadata": {},
   "outputs": [],
   "source": [
    "simulator.history[\"xp\"][:1]"
   ]
  },
  {
   "cell_type": "code",
   "execution_count": null,
   "id": "60c08ba1",
   "metadata": {},
   "outputs": [],
   "source": [
    "from system import System\n",
    "system = System(simulator.model)"
   ]
  },
  {
   "cell_type": "code",
   "execution_count": null,
   "id": "06d30022",
   "metadata": {},
   "outputs": [],
   "source": [
    "system.energy()"
   ]
  },
  {
   "cell_type": "code",
   "execution_count": null,
   "id": "3152c2b0",
   "metadata": {},
   "outputs": [],
   "source": [
    "np.set_printoptions(precision=6, suppress=True)\n",
    "system.flow()"
   ]
  },
  {
   "cell_type": "code",
   "execution_count": null,
   "id": "4706fe25",
   "metadata": {},
   "outputs": [],
   "source": []
  }
 ],
 "metadata": {
  "kernelspec": {
   "display_name": "Python 3",
   "language": "python",
   "name": "python3"
  }
 },
 "nbformat": 4,
 "nbformat_minor": 5
}
