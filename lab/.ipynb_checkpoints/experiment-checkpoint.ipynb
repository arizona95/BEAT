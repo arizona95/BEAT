{
 "cells": [
  {
   "cell_type": "code",
   "execution_count": null,
   "id": "e26efc11",
   "metadata": {},
   "outputs": [],
   "source": [
    "%load_ext autoreload\n",
    "%autoreload 2"
   ]
  },
  {
   "cell_type": "code",
   "execution_count": null,
   "id": "de9e1c64",
   "metadata": {
    "scrolled": true
   },
   "outputs": [],
   "source": [
    "import os\n",
    "import gym\n",
    "import neat\n",
    "from evaluator import Evaluator\n",
    "from datetime import datetime\n",
    "from tf_neat.recurrent_net import RecurrentNet\n",
    "\n",
    "param = {\n",
    "    \"g_s\":3,\n",
    "    \"s_s\":2,\n",
    "    \"max_state\":5,\n",
    "    \"react_depth\":1,\n",
    "    \"neuron_num\":5,\n",
    "    \"input_num\":4,\n",
    "    \"output_num\":1\n",
    "}\n",
    "\n",
    "s = datetime.now().strftime('%Y-%m-%d-%Hh-%Mm-%Ss')\n",
    "rootPath = f\"generations\\{s}\"\n",
    "\n",
    "if not os.path.exists(rootPath):\n",
    "    os.makedirs(rootPath)\n",
    "    \n",
    "pop=\"\"\n",
    "\n",
    "def make_env():\n",
    "    return gym.make(\"CartPole-v0\")\n",
    "\n",
    "\n",
    "def make_net(genome, config, bs):\n",
    "    return RecurrentNet.create(genome, config, bs)\n",
    "\n",
    "def run(n_generations):\n",
    "    global pop\n",
    "    config_path = os.path.join(os.path.dirname(os.path.abspath('')), \"lab/neat.cfg\")\n",
    "    config = neat.Config(\n",
    "        neat.DefaultGenome,\n",
    "        neat.DefaultReproduction,\n",
    "        neat.DefaultSpeciesSet,\n",
    "        neat.DefaultStagnation,\n",
    "        config_path,\n",
    "    )\n",
    "\n",
    "    evaluator = Evaluator(\n",
    "        make_net, make_env=make_env, param=param\n",
    "    )\n",
    "\n",
    "    def eval_genomes(genomes, config):\n",
    "        for idx, genome in genomes:\n",
    "            print(genome)\n",
    "            genome.fitness = evaluator.eval_genome(genome, config, idx, rootPath = rootPath)\n",
    "\n",
    "    pop = neat.Population(config)\n",
    "    pop.run(eval_genomes, n_generations)\n",
    "\n",
    "run(10)"
   ]
  },
  {
   "cell_type": "code",
   "execution_count": null,
   "id": "b1809814",
   "metadata": {
    "scrolled": true
   },
   "outputs": [
    {
     "name": "stdout",
     "output_type": "stream",
     "text": [
      "The autoreload extension is already loaded. To reload it, use:\n",
      "  %reload_ext autoreload\n"
     ]
    }
   ],
   "source": [
    "%load_ext autoreload\n",
    "%autoreload 2\n",
    "import os\n",
    "import neat\n",
    "import pickle\n",
    "import numpy as np\n",
    "from gene import Gene\n",
    "from simulator import Simulator\n",
    "from tf_neat.recurrent_net import RecurrentNet\n",
    "np.set_printoptions(precision=10, suppress=True)\n",
    "\n",
    "def make_net(genome, config, bs):\n",
    "    return RecurrentNet.create(genome, config, bs)\n",
    "\n",
    "param = {\n",
    "    \"g_c\": 2,\n",
    "    \"g_s\": 3,\n",
    "    \"max_state\": 5,\n",
    "    \"react_depth\": 2,\n",
    "    \"neuron_num\": 6,\n",
    "    \"input_num\": 4,\n",
    "    \"output_num\": 1\n",
    "}\n",
    "\n",
    "config_path = os.path.join(os.path.dirname(os.path.abspath('')), \"lab/neat.cfg\")\n",
    "config = neat.Config(\n",
    "    neat.DefaultGenome,\n",
    "    neat.DefaultReproduction,\n",
    "    neat.DefaultSpeciesSet,\n",
    "    neat.DefaultStagnation,\n",
    "    config_path,\n",
    ")\n",
    "\n",
    "filepath = f\"test_case\"\n",
    "case_num = 7\n",
    "genome = \"\"\n",
    "with open(f\"{filepath}\\\\{case_num}\\\\genome.JSON\", 'rb') as fr:\n",
    "    genome = pickle.load(fr)\n",
    "\n",
    "net = make_net(genome, config, 1)\n",
    "gene = Gene(net, param)\n",
    "gene.expression()\n",
    "model = gene.model\n",
    "simulator = Simulator(model, engine = \"bio\", ode_language='FORTRAN') # FORTRAN, PYTHON\n",
    "simulator.run(1)\n",
    "simulator.visualize()"
   ]
  },
  {
   "cell_type": "code",
   "execution_count": 118,
   "id": "f7284122",
   "metadata": {},
   "outputs": [
    {
     "data": {
      "text/plain": [
       "array([[-11.3443250572],\n",
       "       [-12.333948388 ],\n",
       "       [ -8.2466965608],\n",
       "       [ -9.7717190056],\n",
       "       [-12.3398186116],\n",
       "       [ -9.7790058393],\n",
       "       [-12.3431882366],\n",
       "       [ -7.394829814 ],\n",
       "       [ -7.394829814 ],\n",
       "       [ -7.394829814 ],\n",
       "       [ -7.394829814 ],\n",
       "       [ -7.394829814 ],\n",
       "       [ -7.394829814 ],\n",
       "       [ -7.394829814 ],\n",
       "       [ -7.394829814 ],\n",
       "       [ -7.394829814 ],\n",
       "       [ -7.394829814 ],\n",
       "       [ -7.394829814 ],\n",
       "       [ -7.394829814 ],\n",
       "       [ -7.394829814 ],\n",
       "       [ -7.394829814 ],\n",
       "       [ -7.394829814 ],\n",
       "       [ -7.394829814 ],\n",
       "       [ -7.394829814 ],\n",
       "       [ -7.394829814 ],\n",
       "       [ -7.394829814 ],\n",
       "       [ -7.394829814 ],\n",
       "       [ -7.394829814 ],\n",
       "       [ -7.394829814 ],\n",
       "       [ -7.394829814 ],\n",
       "       [ -7.394829814 ],\n",
       "       [ -7.394829814 ],\n",
       "       [ -7.394829814 ],\n",
       "       [ -7.394829814 ],\n",
       "       [ -7.394829814 ],\n",
       "       [ -7.394829814 ],\n",
       "       [ -7.394829814 ],\n",
       "       [ -7.394829814 ],\n",
       "       [ -7.394829814 ],\n",
       "       [ -7.394829814 ],\n",
       "       [ -7.394829814 ],\n",
       "       [ -7.394829814 ],\n",
       "       [ -7.394829814 ],\n",
       "       [ -7.394829814 ],\n",
       "       [ -7.394829814 ],\n",
       "       [ -7.394829814 ],\n",
       "       [ -7.394829814 ],\n",
       "       [ -7.394829814 ],\n",
       "       [ -7.394829814 ],\n",
       "       [ -7.394829814 ],\n",
       "       [ -7.394829814 ],\n",
       "       [ -7.394829814 ],\n",
       "       [ -7.394829814 ],\n",
       "       [ -7.394829814 ],\n",
       "       [ -7.394829814 ],\n",
       "       [ -7.394829814 ],\n",
       "       [ -7.394829814 ],\n",
       "       [ -7.394829814 ],\n",
       "       [ -7.394829814 ],\n",
       "       [ -7.394829814 ],\n",
       "       [ -7.394829814 ],\n",
       "       [ -7.394829814 ],\n",
       "       [ -7.394829814 ],\n",
       "       [ -7.394829814 ],\n",
       "       [ -7.394829814 ],\n",
       "       [ -7.394829814 ],\n",
       "       [ -7.394829814 ],\n",
       "       [ -7.394829814 ],\n",
       "       [ -7.394829814 ],\n",
       "       [ -7.394829814 ],\n",
       "       [ -7.394829814 ],\n",
       "       [ -7.394829814 ],\n",
       "       [ -7.394829814 ],\n",
       "       [ -7.394829814 ],\n",
       "       [ -7.394829814 ],\n",
       "       [ -7.394829814 ],\n",
       "       [ -7.394829814 ],\n",
       "       [ -7.394829814 ],\n",
       "       [ -7.394829814 ],\n",
       "       [ -7.394829814 ],\n",
       "       [ -7.394829814 ],\n",
       "       [ -7.394829814 ],\n",
       "       [ -7.394829814 ],\n",
       "       [ -7.394829814 ],\n",
       "       [ -7.394829814 ],\n",
       "       [ -7.394829814 ],\n",
       "       [ -7.394829814 ],\n",
       "       [ -7.394829814 ],\n",
       "       [ -7.394829814 ],\n",
       "       [ -7.394829814 ],\n",
       "       [ -7.394829814 ],\n",
       "       [ -7.394829814 ],\n",
       "       [ -7.394829814 ],\n",
       "       [ -7.394829814 ],\n",
       "       [ -7.394829814 ],\n",
       "       [ -7.394829814 ],\n",
       "       [ -7.394829814 ],\n",
       "       [ -7.394829814 ],\n",
       "       [ -7.394829814 ],\n",
       "       [ -7.394829814 ],\n",
       "       [ -7.394829814 ],\n",
       "       [ -7.394829814 ],\n",
       "       [ -7.394829814 ]])"
      ]
     },
     "execution_count": 118,
     "metadata": {},
     "output_type": "execute_result"
    }
   ],
   "source": [
    "simulator.system.a"
   ]
  },
  {
   "cell_type": "code",
   "execution_count": 49,
   "id": "d001f2c3",
   "metadata": {},
   "outputs": [
    {
     "data": {
      "text/plain": [
       "{'0/0/0': 1.4693150772024737,\n",
       " '0/0/1': 1.239355482801582,\n",
       " '0/1/0': 0.6417558297584608,\n",
       " '0/1/1': 0.6142862503382716,\n",
       " '1/0/0': 0.5156937379698163,\n",
       " '1/0/1': 0.5543227739236397,\n",
       " '1/1/0': 0.5033336053579379,\n",
       " '1/1/1': 0.5026061630418811,\n",
       " '2/0/0': 0.5003227678387656,\n",
       " '2/0/1': 0.5004745091475884,\n",
       " '2/1/0': 0.500027641656917,\n",
       " '2/1/1': 0.5000215942054879,\n",
       " '3/0/0': 0.5000026683389824,\n",
       " '3/0/1': 0.5000020912338371,\n",
       " '3/1/0': 0.5000001217667781,\n",
       " '3/1/1': 0.5000000951260268,\n",
       " '4/0/0': 0.5000000117542506,\n",
       " '4/0/1': 0.5000000091827017,\n",
       " '4/1/0': 0.5000000005346823,\n",
       " '4/1/1': 0.5000000004177019,\n",
       " '5/0/0': 0.5000000000516134,\n",
       " '5/0/1': 0.5000000000403211,\n",
       " '5/1/0': 0.5000000000023478,\n",
       " '5/1/1': 0.5000000000018341}"
      ]
     },
     "execution_count": 49,
     "metadata": {},
     "output_type": "execute_result"
    }
   ],
   "source": [
    "gene.V"
   ]
  },
  {
   "cell_type": "code",
   "execution_count": 86,
   "id": "f64ac3c0",
   "metadata": {},
   "outputs": [
    {
     "name": "stdout",
     "output_type": "stream",
     "text": [
      "The autoreload extension is already loaded. To reload it, use:\n",
      "  %reload_ext autoreload\n",
      "Success. 0:00:00.249003 taken for simulating\n"
     ]
    },
    {
     "data": {
      "image/png": "[encoded data removed]",
      "text/plain": [
       "<Figure size 432x288 with 1 Axes>"
      ]
     },
     "metadata": {
      "needs_background": "light"
     },
     "output_type": "display_data"
    }
   ],
   "source": [
    "%load_ext autoreload\n",
    "%autoreload 2\n",
    "import os\n",
    "import neat\n",
    "import pickle\n",
    "import numpy as np\n",
    "from gene import Gene\n",
    "from simulator import Simulator\n",
    "from tf_neat.recurrent_net import RecurrentNet\n",
    "np.set_printoptions(precision=10, suppress=True)\n",
    "\n",
    "def make_net(genome, config, bs):\n",
    "    return RecurrentNet.create(genome, config, bs)\n",
    "\n",
    "param = {\n",
    "    \"g_c\": 2,\n",
    "    \"g_s\": 3,\n",
    "    \"max_state\": 5,\n",
    "    \"react_depth\": 2,\n",
    "    \"neuron_num\": 6,\n",
    "    \"input_num\": 4,\n",
    "    \"output_num\": 1\n",
    "}\n",
    "\n",
    "config_path = os.path.join(os.path.dirname(os.path.abspath('')), \"lab/neat.cfg\")\n",
    "config = neat.Config(\n",
    "    neat.DefaultGenome,\n",
    "    neat.DefaultReproduction,\n",
    "    neat.DefaultSpeciesSet,\n",
    "    neat.DefaultStagnation,\n",
    "    config_path,\n",
    ")\n",
    "\n",
    "filepath = f\"test_case\"\n",
    "case_num = 7\n",
    "genome = \"\"\n",
    "with open(f\"{filepath}\\\\{case_num}\\\\genome.JSON\", 'rb') as fr:\n",
    "    genome = pickle.load(fr)\n",
    "\n",
    "net = make_net(genome, config, 1)\n",
    "gene = Gene(net, param)\n",
    "gene.expression()\n",
    "model = gene.model\n",
    "simulator = Simulator(model, engine = \"phy\", ode_language='FORTRAN') # FORTRAN, PYTHON\n",
    "simulator.run(0.001)\n",
    "simulator.visualize()"
   ]
  },
  {
   "cell_type": "code",
   "execution_count": null,
   "id": "4fc020b1",
   "metadata": {},
   "outputs": [],
   "source": [
    "modeld = gene.model\n",
    "np.take(simulator.system.x_0,[1])"
   ]
  },
  {
   "cell_type": "code",
   "execution_count": null,
   "id": "db2fac4a",
   "metadata": {},
   "outputs": [],
   "source": [
    "modeld = gene.model\n",
    "modeld[\"M_\"]"
   ]
  },
  {
   "cell_type": "code",
   "execution_count": null,
   "id": "e37ec1da",
   "metadata": {},
   "outputs": [],
   "source": [
    "simulator.system.diff1"
   ]
  },
  {
   "cell_type": "code",
   "execution_count": null,
   "id": "e9938d8a",
   "metadata": {},
   "outputs": [],
   "source": [
    "simulator.system.diff2"
   ]
  },
  {
   "cell_type": "code",
   "execution_count": null,
   "id": "1326d492",
   "metadata": {},
   "outputs": [],
   "source": [
    "np.exp(-modeld[\"a\"])"
   ]
  },
  {
   "cell_type": "code",
   "execution_count": null,
   "id": "a2a34d20",
   "metadata": {},
   "outputs": [],
   "source": [
    "M_ = modeld[\"M_\"].to_numpy()"
   ]
  },
  {
   "cell_type": "code",
   "execution_count": null,
   "id": "cff8bae7",
   "metadata": {},
   "outputs": [],
   "source": [
    " def relu(x) :\n",
    "    return np.maximum(0,x)\n",
    "relu(M_[:,:4]).argmax(axis=0)"
   ]
  },
  {
   "cell_type": "code",
   "execution_count": null,
   "id": "235453c7",
   "metadata": {},
   "outputs": [],
   "source": [
    "np.where(relu(M_[:,:4])>0,1,0)"
   ]
  },
  {
   "cell_type": "code",
   "execution_count": null,
   "id": "ae2e9873",
   "metadata": {
    "scrolled": true
   },
   "outputs": [],
   "source": [
    "np.where(relu(M_[:,:4])>0,modeld[\"x_0\"],0)"
   ]
  },
  {
   "cell_type": "code",
   "execution_count": null,
   "id": "62769edb",
   "metadata": {},
   "outputs": [],
   "source": [
    "M_r = relu(M_[:,:4])"
   ]
  },
  {
   "cell_type": "code",
   "execution_count": null,
   "id": "4a5a5b18",
   "metadata": {},
   "outputs": [],
   "source": [
    "M_r.shape"
   ]
  },
  {
   "cell_type": "code",
   "execution_count": null,
   "id": "d243a7ed",
   "metadata": {},
   "outputs": [],
   "source": [
    "reactant = np.zeros(M_r.shape)\n",
    "reactant[np.arange(M_r.shape[1]), np.argmax(M_r, axis=0)] =1"
   ]
  },
  {
   "cell_type": "code",
   "execution_count": null,
   "id": "5ca7f13e",
   "metadata": {},
   "outputs": [],
   "source": [
    "reactant.argmax(axis=0)"
   ]
  },
  {
   "cell_type": "code",
   "execution_count": null,
   "id": "c0c67930",
   "metadata": {},
   "outputs": [],
   "source": [
    "np.apply_along_axis(lambda x: x[reactant.argmax(axis=0)], 0, modeld[\"x_0\"])"
   ]
  },
  {
   "cell_type": "code",
   "execution_count": null,
   "id": "c13f8c29",
   "metadata": {},
   "outputs": [],
   "source": [
    "M_r"
   ]
  },
  {
   "cell_type": "code",
   "execution_count": null,
   "id": "9a6a222d",
   "metadata": {},
   "outputs": [],
   "source": [
    "(M_r - reactant).argmax( axis=0)"
   ]
  },
  {
   "cell_type": "code",
   "execution_count": null,
   "id": "6d5398ff",
   "metadata": {},
   "outputs": [],
   "source": [
    "np.arange(M_r.shape[0])"
   ]
  },
  {
   "cell_type": "code",
   "execution_count": null,
   "id": "b9f7e847",
   "metadata": {},
   "outputs": [],
   "source": [
    "re = np.ones(4)"
   ]
  },
  {
   "cell_type": "code",
   "execution_count": null,
   "id": "a1ed7763",
   "metadata": {},
   "outputs": [],
   "source": [
    "np.apply_along_axis(lambda x: x, 1, relu(M_[:,:4]))"
   ]
  },
  {
   "cell_type": "code",
   "execution_count": null,
   "id": "d6e920f5",
   "metadata": {},
   "outputs": [],
   "source": [
    "relu(M_[:,:4])"
   ]
  },
  {
   "cell_type": "code",
   "execution_count": null,
   "id": "3bacdf2d",
   "metadata": {},
   "outputs": [],
   "source": [
    "modeld[\"x_0\"]"
   ]
  },
  {
   "cell_type": "code",
   "execution_count": null,
   "id": "6e8a4342",
   "metadata": {},
   "outputs": [],
   "source": [
    "np.exp(modeld[\"a\"])"
   ]
  },
  {
   "cell_type": "code",
   "execution_count": null,
   "id": "5c021659",
   "metadata": {},
   "outputs": [],
   "source": [
    "simulator = Simulator.by_file(filepath)\n",
    "simulator.model_dict[\"M_\"]"
   ]
  },
  {
   "cell_type": "code",
   "execution_count": null,
   "id": "dce7afb2",
   "metadata": {},
   "outputs": [],
   "source": []
  },
  {
   "cell_type": "code",
   "execution_count": null,
   "id": "217c7489",
   "metadata": {},
   "outputs": [],
   "source": [
    "simulator.model_dict[\"S\"]"
   ]
  },
  {
   "cell_type": "code",
   "execution_count": null,
   "id": "d6d6d814",
   "metadata": {},
   "outputs": [],
   "source": [
    "simulator.model[\"S\"]"
   ]
  },
  {
   "cell_type": "code",
   "execution_count": null,
   "id": "4064bdcb",
   "metadata": {},
   "outputs": [],
   "source": [
    "#simulator = Simulator.by_file(filepath)\n",
    "simulator.run(0.1)\n",
    "simulator.visualize()"
   ]
  },
  {
   "cell_type": "code",
   "execution_count": null,
   "id": "8479820f",
   "metadata": {},
   "outputs": [],
   "source": [
    "simulator.model"
   ]
  },
  {
   "cell_type": "code",
   "execution_count": null,
   "id": "88be55bc",
   "metadata": {},
   "outputs": [],
   "source": [
    "import numpy as np\n",
    "from simulator import Simulator\n",
    "np.set_printoptions(precision=6, suppress=True)\n",
    "time = \"2022-04-28-08h-34m-27s\"\n",
    "gen_idx =1\n",
    "idx = 74\n",
    "filepath = f\"generations\\\\{time}\\\\gen_{gen_idx}\\\\{idx}\"\n",
    "\n",
    "simulator = Simulator.by_file(filepath)\n",
    "\n",
    "\n",
    "#simulator.run(0.1)\n",
    "#simulator.visualize(savePath=savePath)\n"
   ]
  },
  {
   "cell_type": "code",
   "execution_count": null,
   "id": "40de3d9a",
   "metadata": {},
   "outputs": [],
   "source": [
    "simulator.run(0.7)"
   ]
  },
  {
   "cell_type": "code",
   "execution_count": null,
   "id": "103b8a6e",
   "metadata": {},
   "outputs": [],
   "source": [
    "## np.dot(self.x.T, self.V) +\\\n",
    "## np.dot(self.q, np.dot(1 / (self.D + 1) - 1, self.q.T))\n",
    "\n",
    "q = np.dot(np.diag(np.dot(simulator.model['M'], simulator.model['q_c']).T[0]), simulator.model['S'])\n",
    "V = np.dot(q, np.dot(1/(simulator.model['D']+1)-1 ,q.T))\n",
    "\n",
    "np.dot(q.T, simulator.model['M_'])[0].shape\n",
    "\n",
    "#np.dot(simulator.model['M'].T, simulator.model['M_'])\n"
   ]
  },
  {
   "cell_type": "code",
   "execution_count": null,
   "id": "cb0b6f00",
   "metadata": {},
   "outputs": [],
   "source": [
    "simulator.model[\"x\"]"
   ]
  },
  {
   "cell_type": "code",
   "execution_count": null,
   "id": "fdd50bdf",
   "metadata": {},
   "outputs": [],
   "source": [
    "simulator.system.M_[7]"
   ]
  },
  {
   "cell_type": "code",
   "execution_count": null,
   "id": "a66171ec",
   "metadata": {
    "scrolled": true
   },
   "outputs": [],
   "source": [
    "np.exp(np.dot(np.abs(simulator.system.M_).T, np.log(simulator.system.x)))"
   ]
  },
  {
   "cell_type": "code",
   "execution_count": null,
   "id": "90889d71",
   "metadata": {},
   "outputs": [],
   "source": [
    "simulator.model_dict[\"M_\"]"
   ]
  },
  {
   "cell_type": "code",
   "execution_count": null,
   "id": "2563a413",
   "metadata": {},
   "outputs": [],
   "source": [
    "simulator.run(0.001)"
   ]
  },
  {
   "cell_type": "code",
   "execution_count": null,
   "id": "ed3d9a4a",
   "metadata": {},
   "outputs": [],
   "source": [
    "simulator.run(0.62)"
   ]
  },
  {
   "cell_type": "code",
   "execution_count": null,
   "id": "deca671f",
   "metadata": {},
   "outputs": [],
   "source": [
    "simulator.model"
   ]
  },
  {
   "cell_type": "code",
   "execution_count": null,
   "id": "4fc68999",
   "metadata": {},
   "outputs": [],
   "source": [
    "print(simulator.model['M'].shape)\n",
    "print(simulator.model['q_c'].shape)\n",
    "print(simulator.model['S'].shape)\n",
    "print(q.shape)"
   ]
  },
  {
   "cell_type": "code",
   "execution_count": null,
   "id": "a8b51ce8",
   "metadata": {},
   "outputs": [],
   "source": [
    "type(simulator.model_dict['M_'])"
   ]
  },
  {
   "cell_type": "code",
   "execution_count": null,
   "id": "e476306e",
   "metadata": {},
   "outputs": [],
   "source": [
    "np.dot(q.T, simulator.model['M_'])[:,0]"
   ]
  },
  {
   "cell_type": "code",
   "execution_count": null,
   "id": "dfc2acfd",
   "metadata": {},
   "outputs": [],
   "source": [
    "q.shape"
   ]
  },
  {
   "cell_type": "code",
   "execution_count": null,
   "id": "21b580d3",
   "metadata": {},
   "outputs": [],
   "source": [
    "2.71**813.911757"
   ]
  },
  {
   "cell_type": "code",
   "execution_count": null,
   "id": "bdb6d531",
   "metadata": {},
   "outputs": [],
   "source": [
    "simulator.history[\"xp\"][:1]"
   ]
  },
  {
   "cell_type": "code",
   "execution_count": null,
   "id": "60c08ba1",
   "metadata": {},
   "outputs": [],
   "source": [
    "from system import System\n",
    "system = System(simulator.model)"
   ]
  },
  {
   "cell_type": "code",
   "execution_count": null,
   "id": "06d30022",
   "metadata": {},
   "outputs": [],
   "source": [
    "system.energy()"
   ]
  },
  {
   "cell_type": "code",
   "execution_count": null,
   "id": "3152c2b0",
   "metadata": {},
   "outputs": [],
   "source": [
    "np.set_printoptions(precision=6, suppress=True)\n",
    "system.flow()"
   ]
  },
  {
   "cell_type": "code",
   "execution_count": null,
   "id": "4706fe25",
   "metadata": {},
   "outputs": [],
   "source": []
  }
 ],
 "metadata": {
  "kernelspec": {
   "display_name": "Python 3",
   "language": "python",
   "name": "python3"
  },
  "language_info": {
   "codemirror_mode": {
    "name": "ipython",
    "version": 3
   },
   "file_extension": ".py",
   "mimetype": "text/x-python",
   "name": "python",
   "nbconvert_exporter": "python",
   "pygments_lexer": "ipython3",
   "version": "3.7.10"
  }
 },
 "nbformat": 4,
 "nbformat_minor": 5
}
