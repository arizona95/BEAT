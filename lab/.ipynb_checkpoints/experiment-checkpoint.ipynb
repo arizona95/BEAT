{
 "cells": [
  {
   "cell_type": "code",
   "execution_count": 5,
   "id": "f981e641",
   "metadata": {},
   "outputs": [
    {
     "ename": "Exception",
     "evalue": "No such config file: C:\\Users\\arizona95\\Desktop\\arizona95\\git\\BEAT\\neat.cfg",
     "output_type": "error",
     "traceback": [
      "\u001b[1;31m---------------------------------------------------------------------------\u001b[0m",
      "\u001b[1;31mException\u001b[0m                                 Traceback (most recent call last)",
      "\u001b[1;32m<ipython-input-5-a1d9d989ae0e>\u001b[0m in \u001b[0;36m<module>\u001b[1;34m\u001b[0m\n\u001b[0;32m     39\u001b[0m     \u001b[0mpop\u001b[0m\u001b[1;33m.\u001b[0m\u001b[0mrun\u001b[0m\u001b[1;33m(\u001b[0m\u001b[0meval_genomes\u001b[0m\u001b[1;33m,\u001b[0m \u001b[0mn_generations\u001b[0m\u001b[1;33m)\u001b[0m\u001b[1;33m\u001b[0m\u001b[1;33m\u001b[0m\u001b[0m\n\u001b[0;32m     40\u001b[0m \u001b[1;33m\u001b[0m\u001b[0m\n\u001b[1;32m---> 41\u001b[1;33m \u001b[0mrun\u001b[0m\u001b[1;33m(\u001b[0m\u001b[1;36m1\u001b[0m\u001b[1;33m)\u001b[0m\u001b[1;33m\u001b[0m\u001b[1;33m\u001b[0m\u001b[0m\n\u001b[0m",
      "\u001b[1;32m<ipython-input-5-a1d9d989ae0e>\u001b[0m in \u001b[0;36mrun\u001b[1;34m(n_generations)\u001b[0m\n\u001b[0;32m     25\u001b[0m         \u001b[0mneat\u001b[0m\u001b[1;33m.\u001b[0m\u001b[0mDefaultSpeciesSet\u001b[0m\u001b[1;33m,\u001b[0m\u001b[1;33m\u001b[0m\u001b[1;33m\u001b[0m\u001b[0m\n\u001b[0;32m     26\u001b[0m         \u001b[0mneat\u001b[0m\u001b[1;33m.\u001b[0m\u001b[0mDefaultStagnation\u001b[0m\u001b[1;33m,\u001b[0m\u001b[1;33m\u001b[0m\u001b[1;33m\u001b[0m\u001b[0m\n\u001b[1;32m---> 27\u001b[1;33m         \u001b[0mconfig_path\u001b[0m\u001b[1;33m,\u001b[0m\u001b[1;33m\u001b[0m\u001b[1;33m\u001b[0m\u001b[0m\n\u001b[0m\u001b[0;32m     28\u001b[0m     )\n\u001b[0;32m     29\u001b[0m \u001b[1;33m\u001b[0m\u001b[0m\n",
      "\u001b[1;32m~\\anaconda3\\envs\\tensorflow\\lib\\site-packages\\neat\\config.py\u001b[0m in \u001b[0;36m__init__\u001b[1;34m(self, genome_type, reproduction_type, species_set_type, stagnation_type, filename)\u001b[0m\n\u001b[0;32m    151\u001b[0m \u001b[1;33m\u001b[0m\u001b[0m\n\u001b[0;32m    152\u001b[0m         \u001b[1;32mif\u001b[0m \u001b[1;32mnot\u001b[0m \u001b[0mos\u001b[0m\u001b[1;33m.\u001b[0m\u001b[0mpath\u001b[0m\u001b[1;33m.\u001b[0m\u001b[0misfile\u001b[0m\u001b[1;33m(\u001b[0m\u001b[0mfilename\u001b[0m\u001b[1;33m)\u001b[0m\u001b[1;33m:\u001b[0m\u001b[1;33m\u001b[0m\u001b[1;33m\u001b[0m\u001b[0m\n\u001b[1;32m--> 153\u001b[1;33m             \u001b[1;32mraise\u001b[0m \u001b[0mException\u001b[0m\u001b[1;33m(\u001b[0m\u001b[1;34m'No such config file: '\u001b[0m \u001b[1;33m+\u001b[0m \u001b[0mos\u001b[0m\u001b[1;33m.\u001b[0m\u001b[0mpath\u001b[0m\u001b[1;33m.\u001b[0m\u001b[0mabspath\u001b[0m\u001b[1;33m(\u001b[0m\u001b[0mfilename\u001b[0m\u001b[1;33m)\u001b[0m\u001b[1;33m)\u001b[0m\u001b[1;33m\u001b[0m\u001b[1;33m\u001b[0m\u001b[0m\n\u001b[0m\u001b[0;32m    154\u001b[0m \u001b[1;33m\u001b[0m\u001b[0m\n\u001b[0;32m    155\u001b[0m         \u001b[0mparameters\u001b[0m \u001b[1;33m=\u001b[0m \u001b[0mConfigParser\u001b[0m\u001b[1;33m(\u001b[0m\u001b[1;33m)\u001b[0m\u001b[1;33m\u001b[0m\u001b[1;33m\u001b[0m\u001b[0m\n",
      "\u001b[1;31mException\u001b[0m: No such config file: C:\\Users\\arizona95\\Desktop\\arizona95\\git\\BEAT\\neat.cfg"
     ]
    }
   ],
   "source": [
    "import os\n",
    "import gym\n",
    "import neat\n",
    "from evaluator import Evaluator\n",
    "from tf_neat.recurrent_net import RecurrentNet\n",
    "\n",
    "param = {\n",
    "    \"c_v\":3,\n",
    "    \"s_v\":2,\n",
    "    \"max_state\":5,\n",
    "}\n",
    "\n",
    "def make_env():\n",
    "    return gym.make(\"CartPole-v0\")\n",
    "\n",
    "\n",
    "def make_net(genome, config, bs):\n",
    "    return RecurrentNet.create(genome, config, bs)\n",
    "\n",
    "def run(n_generations):\n",
    "    config_path = os.path.join(os.path.dirname(os.path.abspath('')), \"logs\\neat.cfg\")\n",
    "    config = neat.Config(\n",
    "        neat.DefaultGenome,\n",
    "        neat.DefaultReproduction,\n",
    "        neat.DefaultSpeciesSet,\n",
    "        neat.DefaultStagnation,\n",
    "        config_path,\n",
    "    )\n",
    "\n",
    "    evaluator = Evaluator(\n",
    "        make_net, make_env=make_env, param=param\n",
    "    )\n",
    "\n",
    "    def eval_genomes(genomes, config):\n",
    "        for _, genome in genomes:\n",
    "            genome.fitness = evaluator.eval_genome(genome, config)\n",
    "\n",
    "    pop = neat.Population(config)\n",
    "    pop.run(eval_genomes, n_generations)\n",
    "\n",
    "run(1)"
   ]
  },
  {
   "cell_type": "code",
   "execution_count": null,
   "id": "ed7509de",
   "metadata": {},
   "outputs": [],
   "source": []
  }
 ],
 "metadata": {
  "kernelspec": {
   "display_name": "Python 3",
   "language": "python",
   "name": "python3"
  },
  "language_info": {
   "codemirror_mode": {
    "name": "ipython",
    "version": 3
   },
   "file_extension": ".py",
   "mimetype": "text/x-python",
   "name": "python",
   "nbconvert_exporter": "python",
   "pygments_lexer": "ipython3",
   "version": "3.7.10"
  }
 },
 "nbformat": 4,
 "nbformat_minor": 5
}
