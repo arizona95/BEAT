{
 "cells": [
  {
   "cell_type": "code",
   "execution_count": 1,
   "metadata": {},
   "outputs": [],
   "source": [
    "import numpy as np"
   ]
  },
  {
   "cell_type": "code",
   "execution_count": 11,
   "metadata": {},
   "outputs": [
    {
     "name": "stdout",
     "output_type": "stream",
     "text": [
      "[[0.60581116 0.26739361 0.97863717 0.38356106]\n",
      " [0.34141443 0.71859337 0.21998916 0.28685582]\n",
      " [0.99791066 0.30112447 0.78607407 0.57542353]]\n",
      "(3, 4)\n",
      "[0.60581116 0.34141443 0.99791066]\n",
      "(3,)\n"
     ]
    }
   ],
   "source": [
    "X = np.random.rand(3,4)\n",
    "print(X)\n",
    "print(X.shape)\n",
    "x = X[:,0]\n",
    "print(x)\n",
    "print(x.shape)"
   ]
  },
  {
   "cell_type": "code",
   "execution_count": null,
   "metadata": {},
   "outputs": [],
   "source": []
  }
 ],
 "metadata": {
  "kernelspec": {
   "display_name": "Python 3",
   "language": "python",
   "name": "python3"
  },
  "language_info": {
   "codemirror_mode": {
    "name": "ipython",
    "version": 3
   },
   "file_extension": ".py",
   "mimetype": "text/x-python",
   "name": "python",
   "nbconvert_exporter": "python",
   "pygments_lexer": "ipython3",
   "version": "3.8.3"
  }
 },
 "nbformat": 4,
 "nbformat_minor": 4
}
