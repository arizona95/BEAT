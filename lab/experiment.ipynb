{
 "cells": [
  {
   "cell_type": "code",
   "execution_count": 1,
   "id": "83e632ec",
   "metadata": {},
   "outputs": [
    {
     "name": "stderr",
     "output_type": "stream",
     "text": [
      "MovieWriter imagemagick unavailable; using Pillow instead.\n"
     ]
    },
    {
     "data": {
      "text/plain": [
       "<Figure size 432x288 with 0 Axes>"
      ]
     },
     "metadata": {},
     "output_type": "display_data"
    },
    {
     "data": {
      "text/plain": [
       "<Figure size 600x400 with 0 Axes>"
      ]
     },
     "metadata": {},
     "output_type": "display_data"
    }
   ],
   "source": [
    "%load_ext autoreload\n",
    "%autoreload 2\n",
    "import os\n",
    "import gym\n",
    "import neat\n",
    "import pickle\n",
    "import numpy as np\n",
    "from gene import Gene\n",
    "from simulator import Simulator\n",
    "import matplotlib.pyplot as plt\n",
    "from matplotlib import animation\n",
    "from tf_neat.recurrent_net import RecurrentNet\n",
    "\n",
    "np.set_printoptions(precision=10, suppress=True)\n",
    "\n",
    "\n",
    "def make_net(genome, config, bs):\n",
    "    return RecurrentNet.create(genome, config, bs)\n",
    "\n",
    "\n",
    "def make_env():\n",
    "    return gym.make(\"CartPole-v0\")\n",
    "\n",
    "\n",
    "def save_frames_as_gif(frames, path='./', filename='gym_animation.gif'):\n",
    "    # Mess with this to change frame size\n",
    "    plt.clf()\n",
    "    plt.figure(figsize=(frames[0].shape[1] / 72.0, frames[0].shape[0] / 72.0), dpi=72)\n",
    "\n",
    "    patch = plt.imshow(frames[0])\n",
    "    plt.axis('off')\n",
    "\n",
    "    def animate(i):\n",
    "        patch.set_data(frames[i])\n",
    "\n",
    "    anim = animation.FuncAnimation(plt.gcf(), animate, frames=len(frames), interval=50)\n",
    "    anim.save(path + filename, writer='imagemagick', fps=60)\n",
    "\n",
    "\n",
    "param = {\n",
    "    \"g_c\": 2,\n",
    "    \"g_s\": 3,\n",
    "    \"max_state\": 5,\n",
    "    \"react_depth\": 2,\n",
    "    \"neuron_num\": 6,\n",
    "    \"input_num\": 4,\n",
    "    \"output_num\": 1\n",
    "}\n",
    "\n",
    "config_path = os.path.join(os.path.dirname(os.path.abspath('')), \"lab/neat.cfg\")\n",
    "config = neat.Config(\n",
    "    neat.DefaultGenome,\n",
    "    neat.DefaultReproduction,\n",
    "    neat.DefaultSpeciesSet,\n",
    "    neat.DefaultStagnation,\n",
    "    config_path,\n",
    ")\n",
    "\n",
    "filepath = f\"test_case\"\n",
    "case_num = 5\n",
    "\n",
    "savePath = f\"{filepath}\\\\{case_num}\"\n",
    "genome = \"\"\n",
    "with open(f\"{savePath}\\\\genome.JSON\", 'rb') as fr:\n",
    "    genome = pickle.load(fr)\n",
    "\n",
    "net = make_net(genome, config, 1)\n",
    "gene = Gene(net, param)\n",
    "gene.expression()\n",
    "gene.model_display(savePath)\n",
    "model = gene.model\n",
    "simulator = Simulator(model, engine=\"phy\", ode_language='FORTRAN')  # FORTRAN, PYTHON\n",
    "if simulator.checksum == False : \n",
    "    print(\"model failed...\")\n",
    "    print(f\"info : {simulator.model['n']} {simulator.model['e']}\")\n",
    "else :\n",
    "    env = make_env()\n",
    "    env.reset()\n",
    "    frames = []\n",
    "    input_vector = np.array([0] * param[\"input_num\"])\n",
    "    fitnesses = np.zeros(1)\n",
    "    for epoch in range(300):\n",
    "        frames.append(env.render(mode=\"rgb_array\"))\n",
    "        simulator.input(input_vector)\n",
    "        success = simulator.run(1)\n",
    "        if success == False:  done = True\n",
    "        output_vector = simulator.output()\n",
    "        action = 1 if output_vector[0] > 250 else 0\n",
    "        # print(output_vector)\n",
    "        state, reward, done, _ = env.step(action)\n",
    "        # print(np.exp(state))\n",
    "        input_vector = 10 * np.minimum(10, np.exp(state))\n",
    "        fitnesses += reward\n",
    "\n",
    "        if savePath and (done or (epoch + 1) % 10 == 0):\n",
    "            simulator.visualize(savePath=savePath)\n",
    "            plt.clf()\n",
    "\n",
    "        if done: break\n",
    "\n",
    "    env.close()\n",
    "    save_frames_as_gif(frames, path=savePath + '\\\\')\n",
    "    plt.clf()"
   ]
  },
  {
   "cell_type": "code",
   "execution_count": 79,
   "id": "7d57ab5f",
   "metadata": {},
   "outputs": [
    {
     "name": "stdout",
     "output_type": "stream",
     "text": [
      "[0 1 2 3 4]\n",
      "[0 1 2 3 4]\n",
      "[  0   1 101   3   4]\n"
     ]
    }
   ],
   "source": [
    "import numpy as np\n",
    "a = np.arange(5)\n",
    "print(a)\n",
    "b=a[:]\n",
    "print(b)\n",
    "a[2] = 101\n",
    "print(b)"
   ]
  },
  {
   "cell_type": "code",
   "execution_count": 87,
   "id": "53a86951",
   "metadata": {},
   "outputs": [],
   "source": [
    "np.take(a,[2,3]).base"
   ]
  },
  {
   "cell_type": "code",
   "execution_count": null,
   "id": "c9368e97",
   "metadata": {},
   "outputs": [],
   "source": []
  },
  {
   "cell_type": "code",
   "execution_count": 7,
   "id": "d2365030",
   "metadata": {},
   "outputs": [
    {
     "data": {
      "text/plain": [
       "(104, 898)"
      ]
     },
     "execution_count": 7,
     "metadata": {},
     "output_type": "execute_result"
    }
   ],
   "source": [
    "model[\"M_\"].shape"
   ]
  },
  {
   "cell_type": "code",
   "execution_count": 109,
   "id": "b0a9591b",
   "metadata": {},
   "outputs": [
    {
     "name": "stderr",
     "output_type": "stream",
     "text": [
      "C:\\Users\\arizona\\Anaconda3\\envs\\tensorflow\\lib\\site-packages\\ipykernel\\ipkernel.py:287: DeprecationWarning: `should_run_async` will not call `transform_cell` automatically in the future. Please pass the result to `transformed_cell` argument and any exception that happen during thetransform in `preprocessing_exc_tuple` in IPython 7.17 and above.\n",
      "  and should_run_async(code)\n"
     ]
    }
   ],
   "source": [
    "import matplotlib.pyplot as plt\n",
    "import numpy as np\n",
    "from scipy.interpolate import interp1d\n",
    "plt.clf()\n",
    "# 200ms 간격으로 균일하게 샘플된 시간\n",
    "g = np.array([5,\n",
    "    10,\n",
    "    15,\n",
    "    20,\n",
    "    25,\n",
    "    30,\n",
    "    35,\n",
    "    40,\n",
    "    45,\n",
    "    50])\n",
    "\n",
    "cartpole_avg = np.array([4.5,\n",
    "    8,\n",
    "    11.4,\n",
    "    14,\n",
    "    26,\n",
    "    48,\n",
    "    57,\n",
    "    64,\n",
    "    68,\n",
    "    71])\n",
    "\n",
    "cartpole_best = np.array([10,\n",
    "    33,\n",
    "    72,\n",
    "    99,\n",
    "    99,\n",
    "    99,\n",
    "    99,\n",
    "    98,\n",
    "    99,\n",
    "    99])\n",
    "\n",
    "# 빨간 대쉬, 파란 사각형, 녹색 삼각형\n",
    "\n",
    "\n",
    "# Define x, y, and xnew to resample at.\n",
    "x = g\n",
    "y = cartpole_avg\n",
    "xnew = np.linspace(5, 50, num=41, endpoint=True)\n",
    "\n",
    "# Define interpolators.\n",
    "f_linear = interp1d(x, y)\n",
    "f_cubic = interp1d(x, y, kind='cubic')\n",
    "\n",
    "plt.xlabel('generation')\n",
    "plt.ylabel('fitness')\n",
    "plt.grid(True, axis='y', alpha=0.5, linestyle='--')\n",
    "plt.legend(['1','average fitness','2', 'best fitness'])\n",
    "\n",
    "# Plot.\n",
    "\n",
    "plt.plot(xnew, f_linear(xnew), '-', color='w')\n",
    "plt.plot(xnew, f_cubic(xnew), '--', color='tab:red')\n",
    "plt.plot(x, y, 's', color='tab:red', label='CartPole avg')\n",
    "\n",
    "\n",
    "# Define x, y, and xnew to resample at.\n",
    "x = g\n",
    "y = cartpole_best\n",
    "xnew = np.linspace(5, 50, num=41, endpoint=True)\n",
    "\n",
    "# Define interpolators.\n",
    "f_linear = interp1d(x, y)\n",
    "f_cubic = interp1d(x, y, kind='cubic')\n",
    "\n",
    "# Plot.\n",
    "plt.plot(xnew, f_linear(xnew), '-', color='w')\n",
    "plt.plot(xnew, f_cubic(xnew), '--', color='tab:red')\n",
    "plt.plot(x, y, '^',color='tab:red', label='CartPole best')\n",
    "\n",
    "g = np.array([5,\n",
    "    10,\n",
    "    15,\n",
    "    20,\n",
    "    25,\n",
    "    30,\n",
    "    35,\n",
    "    40,\n",
    "    45,\n",
    "    50])\n",
    "\n",
    "cartpole_avg = np.array([\n",
    "    2.1,\n",
    "2.3,\n",
    "4.2,\n",
    "4.1,\n",
    "6.2,\n",
    "7.6,\n",
    "11.5,\n",
    "23.6,\n",
    "38.9,\n",
    "45.3,\n",
    "])\n",
    "\n",
    "cartpole_best = np.array([\n",
    "    5,\n",
    "7,\n",
    "11,\n",
    "11,\n",
    "22,\n",
    "38,\n",
    "86,\n",
    "89,\n",
    "89,\n",
    "91,\n",
    "])\n",
    "\n",
    "# 빨간 대쉬, 파란 사각형, 녹색 삼각형\n",
    "\n",
    "\n",
    "# Define x, y, and xnew to resample at.\n",
    "x = g\n",
    "y = cartpole_avg\n",
    "xnew = np.linspace(5, 50, num=41, endpoint=True)\n",
    "\n",
    "# Define interpolators.\n",
    "f_linear = interp1d(x, y)\n",
    "f_cubic = interp1d(x, y, kind='cubic')\n",
    "\n",
    "plt.xlabel('generation')\n",
    "plt.ylabel('fitness')\n",
    "plt.grid(True, axis='y', alpha=0.5, linestyle='--')\n",
    "plt.legend(['1','average fitness','2', 'best fitness'])\n",
    "\n",
    "# Plot.\n",
    "\n",
    "plt.plot(xnew, f_linear(xnew), '-', color='w')\n",
    "plt.plot(xnew, f_cubic(xnew), '--', color='tab:blue')\n",
    "plt.plot(x, y, 's', color='tab:blue', label='FrozenLake avg')\n",
    "\n",
    "\n",
    "# Define x, y, and xnew to resample at.\n",
    "x = g\n",
    "y = cartpole_best\n",
    "xnew = np.linspace(5, 50, num=41, endpoint=True)\n",
    "\n",
    "# Define interpolators.\n",
    "f_linear = interp1d(x, y)\n",
    "f_cubic = interp1d(x, y, kind='cubic')\n",
    "\n",
    "# Plot.\n",
    "plt.plot(xnew, f_linear(xnew), '-', color='w')\n",
    "plt.plot(xnew, f_cubic(xnew), '--', color='tab:blue')\n",
    "plt.plot(x, y, '^',color='tab:blue', label='FrozenLake best')\n",
    "\n",
    "plt.legend()\n",
    "'''\n",
    "plt.grid(True, axis='y', alpha=0.5, linestyle='--')\n",
    "plt.legend(['average fitness', 'best fitness'])\n",
    "plt.plot(g, cartpole_avg_smooth, color='tab:red')\n",
    "plt.plot(g, cartpole_avg, color='tab:red', marker='s')\n",
    "plt.plot(g, cartpole_best, color='tab:blue', marker='^')\n",
    "\n",
    "plt.xlabel('generation')\n",
    "plt.ylabel('fitness')\n",
    "plt.legend(['average fitness', 'best fitness'])\n",
    "#plt.savefig(\"../paper/source/test.png\")\n",
    "'''\n",
    "plt.savefig(\"../paper/source/total.png\")\n",
    "#plt.show()\n"
   ]
  },
  {
   "cell_type": "code",
   "execution_count": 81,
   "id": "1e211151",
   "metadata": {},
   "outputs": [
    {
     "data": {
      "text/plain": [
       "array([0.   , 0.225, 0.45 , 0.675, 0.9  , 1.125, 1.35 , 1.575, 1.8  ,\n",
       "       2.025, 2.25 , 2.475, 2.7  , 2.925, 3.15 , 3.375, 3.6  , 3.825,\n",
       "       4.05 , 4.275, 4.5  , 4.725, 4.95 , 5.175, 5.4  , 5.625, 5.85 ,\n",
       "       6.075, 6.3  , 6.525, 6.75 , 6.975, 7.2  , 7.425, 7.65 , 7.875,\n",
       "       8.1  , 8.325, 8.55 , 8.775, 9.   ])"
      ]
     },
     "execution_count": 81,
     "metadata": {},
     "output_type": "execute_result"
    }
   ],
   "source": [
    "xnew"
   ]
  },
  {
   "cell_type": "code",
   "execution_count": 121,
   "id": "606426b6",
   "metadata": {},
   "outputs": [
    {
     "name": "stderr",
     "output_type": "stream",
     "text": [
      "C:\\Users\\arizona\\Anaconda3\\envs\\tensorflow\\lib\\site-packages\\ipykernel\\ipkernel.py:287: DeprecationWarning: `should_run_async` will not call `transform_cell` automatically in the future. Please pass the result to `transformed_cell` argument and any exception that happen during thetransform in `preprocessing_exc_tuple` in IPython 7.17 and above.\n",
      "  and should_run_async(code)\n",
      "C:\\Users\\arizona\\Anaconda3\\envs\\tensorflow\\lib\\site-packages\\scipy\\interpolate\\interpolate.py:623: RuntimeWarning: invalid value encountered in subtract\n",
      "  slope = (y_hi - y_lo) / (x_hi - x_lo)[:, None]\n",
      "C:\\Users\\arizona\\Anaconda3\\envs\\tensorflow\\lib\\site-packages\\scipy\\interpolate\\interpolate.py:626: RuntimeWarning: invalid value encountered in add\n",
      "  y_new = slope*(x_new - x_lo)[:, None] + y_lo\n",
      "C:\\Users\\arizona\\Anaconda3\\envs\\tensorflow\\lib\\site-packages\\scipy\\interpolate\\interpolate.py:623: RuntimeWarning: invalid value encountered in subtract\n",
      "  slope = (y_hi - y_lo) / (x_hi - x_lo)[:, None]\n",
      "C:\\Users\\arizona\\Anaconda3\\envs\\tensorflow\\lib\\site-packages\\scipy\\interpolate\\interpolate.py:626: RuntimeWarning: invalid value encountered in add\n",
      "  y_new = slope*(x_new - x_lo)[:, None] + y_lo\n"
     ]
    }
   ],
   "source": [
    "import matplotlib.pyplot as plt\n",
    "import numpy as np\n",
    "from scipy.interpolate import interp1d\n",
    "plt.clf()\n",
    "# 200ms 간격으로 균일하게 샘플된 시간\n",
    "g = np.array([5,\n",
    "    10,\n",
    "    15,\n",
    "    20,\n",
    "    25,\n",
    "    30,\n",
    "    35,\n",
    "    40,\n",
    "    45,\n",
    "    50])\n",
    "\n",
    "cartpole_avg = np.array([\n",
    "np.inf,\n",
    "np.inf,\n",
    "np.inf,\n",
    "100,\n",
    "100,\n",
    "97.00996678,\n",
    "96.34551495,\n",
    "96.34551495,\n",
    "95.34883721,\n",
    "93.68770764,\n",
    "\n",
    "\n",
    "])\n",
    "\n",
    "cartpole_best = np.array([\n",
    "np.inf,\n",
    "np.inf,\n",
    "np.inf,\n",
    "np.inf,\n",
    "np.inf,\n",
    "np.inf,\n",
    "np.inf,\n",
    "100,\n",
    "99.63144963,\n",
    "98.4029484,\n",
    "])\n",
    "\n",
    "# 빨간 대쉬, 파란 사각형, 녹색 삼각형\n",
    "\n",
    "\n",
    "# Define x, y, and xnew to resample at.\n",
    "x = g\n",
    "y = cartpole_avg\n",
    "xnew = np.linspace(5, 50, num=41, endpoint=True)\n",
    "\n",
    "# Define interpolators.\n",
    "f_linear = interp1d(x, y)\n",
    "f_cubic = interp1d(x, y, kind='cubic')\n",
    "\n",
    "plt.xlabel('generation')\n",
    "plt.ylabel('training time (%)')\n",
    "plt.grid(True, axis='y', alpha=0.5, linestyle='--')\n",
    "plt.legend(['1','average fitness','2', 'best fitness'])\n",
    "\n",
    "# Plot.\n",
    "\n",
    "plt.plot(xnew, f_linear(xnew), '--', color='tab:red')\n",
    "plt.plot(xnew, f_cubic(xnew), '--', color='tab:red')\n",
    "plt.plot(x, y, 's', color='tab:red', label='CartPole')\n",
    "\n",
    "\n",
    "# Define x, y, and xnew to resample at.\n",
    "x = g\n",
    "y = cartpole_best\n",
    "xnew = np.linspace(5, 50, num=41, endpoint=True)\n",
    "\n",
    "# Define interpolators.\n",
    "f_linear = interp1d(x, y)\n",
    "f_cubic = interp1d(x, y, kind='cubic')\n",
    "\n",
    "# Plot.\n",
    "plt.plot(xnew, f_linear(xnew),'--', color='tab:blue')\n",
    "plt.plot(xnew, f_cubic(xnew), '--', color='tab:blue')\n",
    "plt.plot(x, y, '^',color='tab:blue', label='FrozenLake')\n",
    "\n",
    "plt.legend()\n",
    "'''\n",
    "plt.grid(True, axis='y', alpha=0.5, linestyle='--')\n",
    "plt.legend(['average fitness', 'best fitness'])\n",
    "plt.plot(g, cartpole_avg_smooth, color='tab:red')\n",
    "plt.plot(g, cartpole_avg, color='tab:red', marker='s')\n",
    "plt.plot(g, cartpole_best, color='tab:blue', marker='^')\n",
    "\n",
    "plt.xlabel('generation')\n",
    "plt.ylabel('fitness')\n",
    "plt.legend(['average fitness', 'best fitness'])\n",
    "#plt.savefig(\"../paper/source/test.png\")\n",
    "'''\n",
    "plt.savefig(\"../paper/source/training_time.png\")\n",
    "#plt.show()"
   ]
  },
  {
   "cell_type": "code",
   "execution_count": 33,
   "id": "d405e22e",
   "metadata": {},
   "outputs": [],
   "source": [
    "import numpy as np\n",
    "a = [\n",
    " [-1,  1,  0,  0],\n",
    " [-1,  0,  0 , 0],\n",
    " [ 1,  0,-1,  0],\n",
    " [ 0, 1,  0,  0],\n",
    " [ 0,  0,  1, -1],\n",
    " [ 0, -1,  0 , 1],\n",
    "]\n",
    "\n",
    "b = [\n",
    "[1,  0,  1,  0,  1,  1],\n",
    "[0,  1,  1 , 1,  1,  1],\n",
    "]\n"
   ]
  },
  {
   "cell_type": "code",
   "execution_count": 34,
   "id": "7ade56ee",
   "metadata": {},
   "outputs": [],
   "source": [
    "M_ = np.array(a)\n",
    "M = np.array(b)"
   ]
  },
  {
   "cell_type": "code",
   "execution_count": 35,
   "id": "aaa93892",
   "metadata": {},
   "outputs": [
    {
     "data": {
      "text/plain": [
       "array([[0, 0, 0, 0],\n",
       "       [0, 0, 0, 0]])"
      ]
     },
     "execution_count": 35,
     "metadata": {},
     "output_type": "execute_result"
    }
   ],
   "source": [
    "np.dot(M, M_)"
   ]
  },
  {
   "cell_type": "code",
   "execution_count": 39,
   "id": "8396e58f",
   "metadata": {},
   "outputs": [
    {
     "name": "stdout",
     "output_type": "stream",
     "text": [
      "[[1. 0. 0. 0. 0. 0.]\n",
      " [0. 1. 0. 0. 0. 0.]\n",
      " [0. 0. 1. 0. 0. 0.]\n",
      " [0. 0. 0. 0. 1. 0.]\n",
      " [0. 0. 0. 1. 0. 0.]\n",
      " [0. 0. 0. 0. 0. 1.]]\n",
      "[[ 1.  0.  0.  0.]\n",
      " [ 1.  1.  0.  0.]\n",
      " [-1. -1.  1.  0.]\n",
      " [-0. -0. -1.  1.]\n",
      " [-0. -1. -0. -0.]\n",
      " [-0.  1. -0. -1.]]\n",
      "[[-1.  1.  0.  0.]\n",
      " [ 0. -1.  0.  0.]\n",
      " [ 0.  0. -1.  0.]\n",
      " [ 0.  0.  0. -1.]]\n"
     ]
    }
   ],
   "source": [
    "\n",
    "P, L, U = scipy.linalg.lu(M_)\n",
    "\n",
    "\n",
    "print(P)\n",
    "\n",
    "print(L)\n",
    "\n",
    "print(U)"
   ]
  },
  {
   "cell_type": "code",
   "execution_count": 40,
   "id": "b10ddbf4",
   "metadata": {},
   "outputs": [
    {
     "data": {
      "text/plain": [
       "array([[-1.,  1.,  0.,  0.],\n",
       "       [-1.,  0.,  0.,  0.],\n",
       "       [ 1.,  0., -1.,  0.],\n",
       "       [ 0.,  1.,  0.,  0.],\n",
       "       [ 0.,  0.,  1., -1.],\n",
       "       [ 0., -1.,  0.,  1.]])"
      ]
     },
     "execution_count": 40,
     "metadata": {},
     "output_type": "execute_result"
    }
   ],
   "source": [
    "np.dot(np.dot(P,L),U)"
   ]
  },
  {
   "cell_type": "code",
   "execution_count": 47,
   "id": "caec64c5",
   "metadata": {},
   "outputs": [
    {
     "data": {
      "text/plain": [
       "array([[0., 0., 0., 0.],\n",
       "       [0., 0., 0., 0.]])"
      ]
     },
     "execution_count": 47,
     "metadata": {},
     "output_type": "execute_result"
    }
   ],
   "source": [
    "np.dot(np.dot(M,P),L)"
   ]
  },
  {
   "cell_type": "code",
   "execution_count": 45,
   "id": "ef0a774a",
   "metadata": {},
   "outputs": [
    {
     "name": "stdout",
     "output_type": "stream",
     "text": [
      "[[1. 0. 0. 0. 0. 0.]\n",
      " [0. 1. 0. 0. 0. 0.]\n",
      " [0. 0. 1. 0. 0. 0.]\n",
      " [0. 0. 0. 0. 1. 0.]\n",
      " [0. 0. 0. 1. 0. 0.]\n",
      " [0. 0. 0. 0. 0. 1.]]\n"
     ]
    }
   ],
   "source": [
    "\n",
    "arr_inv = np.linalg.inv(P)\n",
    "\n",
    "print(arr_inv)\n"
   ]
  },
  {
   "cell_type": "code",
   "execution_count": null,
   "id": "805de052",
   "metadata": {},
   "outputs": [],
   "source": []
  }
 ],
 "metadata": {
  "kernelspec": {
   "display_name": "Python 3 (ipykernel)",
   "language": "python",
   "name": "python3"
  },
  "language_info": {
   "codemirror_mode": {
    "name": "ipython",
    "version": 3
   },
   "file_extension": ".py",
   "mimetype": "text/x-python",
   "name": "python",
   "nbconvert_exporter": "python",
   "pygments_lexer": "ipython3",
   "version": "3.9.12"
  }
 },
 "nbformat": 4,
 "nbformat_minor": 5
}
