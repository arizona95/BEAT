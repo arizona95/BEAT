{
 "cells": [
  {
   "cell_type": "code",
   "execution_count": 1,
   "id": "da8184e0",
   "metadata": {},
   "outputs": [
    {
     "name": "stdout",
     "output_type": "stream",
     "text": [
      "position\n",
      "zoom\n",
      "nodeTypes\n",
      "edgeTypes\n",
      "nodes\n"
     ]
    }
   ],
   "source": [
    "import os\n",
    "import json\n",
    "\n",
    "with open('graph/data/data.json') as json_file :\n",
    "    json_data = json.load(json_file)\n",
    "\n",
    "    for key in json_data :\n",
    "        print(key)\n"
   ]
  },
  {
   "cell_type": "code",
   "execution_count": 2,
   "id": "4d136818",
   "metadata": {},
   "outputs": [
    {
     "data": {
      "text/plain": [
       "{'position': {'x': 3700.7892406870765, 'y': 838.1489565645895},\n",
       " 'zoom': 0.6999999999999997,\n",
       " 'nodeTypes': [{'name': 'Channel',\n",
       "   'modelClass': 'Node',\n",
       "   'viewClass': 'Node',\n",
       "   'radius': 60,\n",
       "   'fill': '#d616e3'},\n",
       "  {'name': 'Ion',\n",
       "   'modelClass': 'Node',\n",
       "   'viewClass': 'Node',\n",
       "   'radius': 31,\n",
       "   'fill': '#46c80e'},\n",
       "  {'name': 'Reaction',\n",
       "   'modelClass': 'Node',\n",
       "   'viewClass': 'Node',\n",
       "   'radius': 24,\n",
       "   'fill': '#a39f9f'}],\n",
       " 'edgeTypes': [{'name': 'Hamiltonian',\n",
       "   'modelClass': 'Edge',\n",
       "   'viewClass': 'Edge',\n",
       "   'stroke': '#07dad6'},\n",
       "  {'name': 'Diffusion',\n",
       "   'modelClass': 'Edge',\n",
       "   'viewClass': 'Edge',\n",
       "   'stroke': '#f47601'},\n",
       "  {'name': 'ChemicalReaction',\n",
       "   'modelClass': 'Edge',\n",
       "   'viewClass': 'Edge',\n",
       "   'stroke': '#343232'}],\n",
       " 'nodes': [{'id': 15,\n",
       "   'type': 'Channel',\n",
       "   'pins': {'out': {'links': [{'node': 17,\n",
       "       'type': 'ChemicalReaction',\n",
       "       'pin': 'in'}]}},\n",
       "   'position': {'x': -2205.3542361487134, 'y': -327.98089126668737},\n",
       "   'text': 'Na-k Channel',\n",
       "   'data': {'a': '6', 'x0': '10'}},\n",
       "  {'id': 16,\n",
       "   'type': 'Ion',\n",
       "   'pins': {'out': {'links': [{'node': 17,\n",
       "       'type': 'ChemicalReaction',\n",
       "       'pin': 'in'}]}},\n",
       "   'position': {'x': -1645.9485486376104, 'y': -395.3759262971655},\n",
       "   'text': 'Na+ In',\n",
       "   'data': {'a': '3.5', 'x0': '20'}},\n",
       "  {'id': 17,\n",
       "   'type': 'Reaction',\n",
       "   'pins': {'out': {'links': [{'node': 30,\n",
       "       'type': 'ChemicalReaction',\n",
       "       'pin': 'in'}]}},\n",
       "   'position': {'x': -1814.7992128111396, 'y': -286.2454888321017},\n",
       "   'text': 'r'},\n",
       "  {'id': 30,\n",
       "   'type': 'Channel',\n",
       "   'pins': {'out': {'links': [{'node': 33,\n",
       "       'type': 'Diffusion',\n",
       "       'pin': 'in'}]}},\n",
       "   'position': {'x': -1732.1200923259767, 'y': -14.382407839835992},\n",
       "   'text': 'Na-K Channel Running 1'},\n",
       "  {'id': 31,\n",
       "   'type': 'Ion',\n",
       "   'position': {'x': -2543.7253554838717, 'y': 22.49014117977174},\n",
       "   'text': 'Na+ Out'},\n",
       "  {'id': 32,\n",
       "   'type': 'Reaction',\n",
       "   'pins': {'out': {'links': [{'node': 15,\n",
       "       'type': 'ChemicalReaction',\n",
       "       'pin': 'in'},\n",
       "      {'node': 31, 'type': 'ChemicalReaction', 'pin': 'in'}]}},\n",
       "   'position': {'x': -2349.35693443124, 'y': -30.72038513601774},\n",
       "   'text': 'r'},\n",
       "  {'id': 33,\n",
       "   'type': 'Channel',\n",
       "   'pins': {'out': {'links': [{'node': 34,\n",
       "       'type': 'Diffusion',\n",
       "       'pin': 'in'}]}},\n",
       "   'position': {'x': -1924.35693443124, 'y': 63.27961486398226},\n",
       "   'text': 'Na-K Channel Running 2'},\n",
       "  {'id': 34,\n",
       "   'type': 'Channel',\n",
       "   'pins': {'out': {'links': [{'node': 32,\n",
       "       'type': 'ChemicalReaction',\n",
       "       'pin': 'in'}]}},\n",
       "   'position': {'x': -2130.35693443124, 'y': 157.27961486398226},\n",
       "   'text': 'Na-K Channel Running 3'}]}"
      ]
     },
     "execution_count": 2,
     "metadata": {},
     "output_type": "execute_result"
    }
   ],
   "source": [
    "json_data"
   ]
  },
  {
   "cell_type": "code",
   "execution_count": null,
   "id": "d42b16a8",
   "metadata": {},
   "outputs": [],
   "source": []
  }
 ],
 "metadata": {
  "kernelspec": {
   "display_name": "Python 3 (ipykernel)",
   "language": "python",
   "name": "python3"
  },
  "language_info": {
   "codemirror_mode": {
    "name": "ipython",
    "version": 3
   },
   "file_extension": ".py",
   "mimetype": "text/x-python",
   "name": "python",
   "nbconvert_exporter": "python",
   "pygments_lexer": "ipython3",
   "version": "3.7.13"
  }
 },
 "nbformat": 4,
 "nbformat_minor": 5
}
